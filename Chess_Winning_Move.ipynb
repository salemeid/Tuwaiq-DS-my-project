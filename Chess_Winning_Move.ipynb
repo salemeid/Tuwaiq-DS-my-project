{
 "cells": [
  {
   "cell_type": "markdown",
   "id": "89a89c95",
   "metadata": {},
   "source": [
    "# Chess: The Winning Move"
   ]
  },
  {
   "cell_type": "markdown",
   "id": "fc6337e0",
   "metadata": {},
   "source": [
    "![Chess Image](chess_notebook.jpg)"
   ]
  },
  {
   "cell_type": "markdown",
   "id": "33d10b1b",
   "metadata": {},
   "source": [
    "## 1. Question:\n",
    "### Based on opening move will white win or lose ?"
   ]
  },
  {
   "cell_type": "markdown",
   "id": "58d5b27b",
   "metadata": {},
   "source": [
    "- [x] Getting Data\n",
    "- [ ] Draw a plan\n",
    "- [ ] Start Writing Code"
   ]
  },
  {
   "cell_type": "markdown",
   "id": "7862cc26",
   "metadata": {},
   "source": [
    "## Dataset :"
   ]
  },
  {
   "cell_type": "markdown",
   "id": "ab1aed71",
   "metadata": {},
   "source": [
    "data features:\n",
    "* Game ID;\n",
    "* Rated (T/F);\n",
    "* Start Time;\n",
    "* End Time;\n",
    "* Number of Turns;\n",
    "* Game Status;\n",
    "* Winner;\n",
    "* Time Increment;\n",
    "* White Player ID;\n",
    "* White Player Rating;\n",
    "* Black Player ID;\n",
    "* Black Player Rating;\n",
    "* All Moves in Standard Chess Notation;\n",
    "* Opening Eco (Standardised Code for any given opening, list here);\n",
    "* Opening Name;\n",
    "* Opening Ply (Number of moves in the opening phase)"
   ]
  },
  {
   "cell_type": "markdown",
   "id": "0693fb7e",
   "metadata": {},
   "source": [
    "| Features  | Data Points |\n",
    "| ------------- | ------------- |\n",
    "| 15  | 20,000  |\n"
   ]
  },
  {
   "cell_type": "markdown",
   "id": "83d2aaef",
   "metadata": {},
   "source": [
    "### Import Libraries"
   ]
  },
  {
   "cell_type": "code",
   "execution_count": 14,
   "id": "86dbbc35",
   "metadata": {},
   "outputs": [],
   "source": [
    "import pandas as pd\n",
    "import numpy as np\n",
    "import matplotlib.pyplot as plt\n",
    "import seaborn as sns\n",
    "\n",
    "%matplotlib inline"
   ]
  },
  {
   "cell_type": "code",
   "execution_count": 15,
   "id": "ff8feeb7",
   "metadata": {},
   "outputs": [],
   "source": [
    "df = pd.read_csv('games.csv')"
   ]
  },
  {
   "cell_type": "code",
   "execution_count": 17,
   "id": "b6ce976c",
   "metadata": {
    "scrolled": true
   },
   "outputs": [
    {
     "data": {
      "text/html": [
       "<div>\n",
       "<style scoped>\n",
       "    .dataframe tbody tr th:only-of-type {\n",
       "        vertical-align: middle;\n",
       "    }\n",
       "\n",
       "    .dataframe tbody tr th {\n",
       "        vertical-align: top;\n",
       "    }\n",
       "\n",
       "    .dataframe thead th {\n",
       "        text-align: right;\n",
       "    }\n",
       "</style>\n",
       "<table border=\"1\" class=\"dataframe\">\n",
       "  <thead>\n",
       "    <tr style=\"text-align: right;\">\n",
       "      <th></th>\n",
       "      <th>id</th>\n",
       "      <th>rated</th>\n",
       "      <th>created_at</th>\n",
       "      <th>last_move_at</th>\n",
       "      <th>turns</th>\n",
       "      <th>victory_status</th>\n",
       "      <th>winner</th>\n",
       "      <th>increment_code</th>\n",
       "      <th>white_id</th>\n",
       "      <th>white_rating</th>\n",
       "      <th>black_id</th>\n",
       "      <th>black_rating</th>\n",
       "      <th>moves</th>\n",
       "      <th>opening_eco</th>\n",
       "      <th>opening_name</th>\n",
       "      <th>opening_ply</th>\n",
       "    </tr>\n",
       "  </thead>\n",
       "  <tbody>\n",
       "    <tr>\n",
       "      <th>0</th>\n",
       "      <td>TZJHLljE</td>\n",
       "      <td>False</td>\n",
       "      <td>1.504210e+12</td>\n",
       "      <td>1.504210e+12</td>\n",
       "      <td>13</td>\n",
       "      <td>outoftime</td>\n",
       "      <td>white</td>\n",
       "      <td>15+2</td>\n",
       "      <td>bourgris</td>\n",
       "      <td>1500</td>\n",
       "      <td>a-00</td>\n",
       "      <td>1191</td>\n",
       "      <td>d4 d5 c4 c6 cxd5 e6 dxe6 fxe6 Nf3 Bb4+ Nc3 Ba5...</td>\n",
       "      <td>D10</td>\n",
       "      <td>Slav Defense: Exchange Variation</td>\n",
       "      <td>5</td>\n",
       "    </tr>\n",
       "    <tr>\n",
       "      <th>1</th>\n",
       "      <td>l1NXvwaE</td>\n",
       "      <td>True</td>\n",
       "      <td>1.504130e+12</td>\n",
       "      <td>1.504130e+12</td>\n",
       "      <td>16</td>\n",
       "      <td>resign</td>\n",
       "      <td>black</td>\n",
       "      <td>5+10</td>\n",
       "      <td>a-00</td>\n",
       "      <td>1322</td>\n",
       "      <td>skinnerua</td>\n",
       "      <td>1261</td>\n",
       "      <td>d4 Nc6 e4 e5 f4 f6 dxe5 fxe5 fxe5 Nxe5 Qd4 Nc6...</td>\n",
       "      <td>B00</td>\n",
       "      <td>Nimzowitsch Defense: Kennedy Variation</td>\n",
       "      <td>4</td>\n",
       "    </tr>\n",
       "    <tr>\n",
       "      <th>2</th>\n",
       "      <td>mIICvQHh</td>\n",
       "      <td>True</td>\n",
       "      <td>1.504130e+12</td>\n",
       "      <td>1.504130e+12</td>\n",
       "      <td>61</td>\n",
       "      <td>mate</td>\n",
       "      <td>white</td>\n",
       "      <td>5+10</td>\n",
       "      <td>ischia</td>\n",
       "      <td>1496</td>\n",
       "      <td>a-00</td>\n",
       "      <td>1500</td>\n",
       "      <td>e4 e5 d3 d6 Be3 c6 Be2 b5 Nd2 a5 a4 c5 axb5 Nc...</td>\n",
       "      <td>C20</td>\n",
       "      <td>King's Pawn Game: Leonardis Variation</td>\n",
       "      <td>3</td>\n",
       "    </tr>\n",
       "    <tr>\n",
       "      <th>3</th>\n",
       "      <td>kWKvrqYL</td>\n",
       "      <td>True</td>\n",
       "      <td>1.504110e+12</td>\n",
       "      <td>1.504110e+12</td>\n",
       "      <td>61</td>\n",
       "      <td>mate</td>\n",
       "      <td>white</td>\n",
       "      <td>20+0</td>\n",
       "      <td>daniamurashov</td>\n",
       "      <td>1439</td>\n",
       "      <td>adivanov2009</td>\n",
       "      <td>1454</td>\n",
       "      <td>d4 d5 Nf3 Bf5 Nc3 Nf6 Bf4 Ng4 e3 Nc6 Be2 Qd7 O...</td>\n",
       "      <td>D02</td>\n",
       "      <td>Queen's Pawn Game: Zukertort Variation</td>\n",
       "      <td>3</td>\n",
       "    </tr>\n",
       "    <tr>\n",
       "      <th>4</th>\n",
       "      <td>9tXo1AUZ</td>\n",
       "      <td>True</td>\n",
       "      <td>1.504030e+12</td>\n",
       "      <td>1.504030e+12</td>\n",
       "      <td>95</td>\n",
       "      <td>mate</td>\n",
       "      <td>white</td>\n",
       "      <td>30+3</td>\n",
       "      <td>nik221107</td>\n",
       "      <td>1523</td>\n",
       "      <td>adivanov2009</td>\n",
       "      <td>1469</td>\n",
       "      <td>e4 e5 Nf3 d6 d4 Nc6 d5 Nb4 a3 Na6 Nc3 Be7 b4 N...</td>\n",
       "      <td>C41</td>\n",
       "      <td>Philidor Defense</td>\n",
       "      <td>5</td>\n",
       "    </tr>\n",
       "  </tbody>\n",
       "</table>\n",
       "</div>"
      ],
      "text/plain": [
       "         id  rated    created_at  last_move_at  turns victory_status winner  \\\n",
       "0  TZJHLljE  False  1.504210e+12  1.504210e+12     13      outoftime  white   \n",
       "1  l1NXvwaE   True  1.504130e+12  1.504130e+12     16         resign  black   \n",
       "2  mIICvQHh   True  1.504130e+12  1.504130e+12     61           mate  white   \n",
       "3  kWKvrqYL   True  1.504110e+12  1.504110e+12     61           mate  white   \n",
       "4  9tXo1AUZ   True  1.504030e+12  1.504030e+12     95           mate  white   \n",
       "\n",
       "  increment_code       white_id  white_rating      black_id  black_rating  \\\n",
       "0           15+2       bourgris          1500          a-00          1191   \n",
       "1           5+10           a-00          1322     skinnerua          1261   \n",
       "2           5+10         ischia          1496          a-00          1500   \n",
       "3           20+0  daniamurashov          1439  adivanov2009          1454   \n",
       "4           30+3      nik221107          1523  adivanov2009          1469   \n",
       "\n",
       "                                               moves opening_eco  \\\n",
       "0  d4 d5 c4 c6 cxd5 e6 dxe6 fxe6 Nf3 Bb4+ Nc3 Ba5...         D10   \n",
       "1  d4 Nc6 e4 e5 f4 f6 dxe5 fxe5 fxe5 Nxe5 Qd4 Nc6...         B00   \n",
       "2  e4 e5 d3 d6 Be3 c6 Be2 b5 Nd2 a5 a4 c5 axb5 Nc...         C20   \n",
       "3  d4 d5 Nf3 Bf5 Nc3 Nf6 Bf4 Ng4 e3 Nc6 Be2 Qd7 O...         D02   \n",
       "4  e4 e5 Nf3 d6 d4 Nc6 d5 Nb4 a3 Na6 Nc3 Be7 b4 N...         C41   \n",
       "\n",
       "                             opening_name  opening_ply  \n",
       "0        Slav Defense: Exchange Variation            5  \n",
       "1  Nimzowitsch Defense: Kennedy Variation            4  \n",
       "2   King's Pawn Game: Leonardis Variation            3  \n",
       "3  Queen's Pawn Game: Zukertort Variation            3  \n",
       "4                        Philidor Defense            5  "
      ]
     },
     "execution_count": 17,
     "metadata": {},
     "output_type": "execute_result"
    }
   ],
   "source": [
    "df.head()"
   ]
  },
  {
   "cell_type": "code",
   "execution_count": 18,
   "id": "2e3b0429",
   "metadata": {},
   "outputs": [
    {
     "name": "stdout",
     "output_type": "stream",
     "text": [
      "<class 'pandas.core.frame.DataFrame'>\n",
      "RangeIndex: 20058 entries, 0 to 20057\n",
      "Data columns (total 16 columns):\n",
      " #   Column          Non-Null Count  Dtype  \n",
      "---  ------          --------------  -----  \n",
      " 0   id              20058 non-null  object \n",
      " 1   rated           20058 non-null  bool   \n",
      " 2   created_at      20058 non-null  float64\n",
      " 3   last_move_at    20058 non-null  float64\n",
      " 4   turns           20058 non-null  int64  \n",
      " 5   victory_status  20058 non-null  object \n",
      " 6   winner          20058 non-null  object \n",
      " 7   increment_code  20058 non-null  object \n",
      " 8   white_id        20058 non-null  object \n",
      " 9   white_rating    20058 non-null  int64  \n",
      " 10  black_id        20058 non-null  object \n",
      " 11  black_rating    20058 non-null  int64  \n",
      " 12  moves           20058 non-null  object \n",
      " 13  opening_eco     20058 non-null  object \n",
      " 14  opening_name    20058 non-null  object \n",
      " 15  opening_ply     20058 non-null  int64  \n",
      "dtypes: bool(1), float64(2), int64(4), object(9)\n",
      "memory usage: 2.3+ MB\n"
     ]
    }
   ],
   "source": [
    "df.info()"
   ]
  },
  {
   "cell_type": "code",
   "execution_count": 19,
   "id": "a276142d",
   "metadata": {},
   "outputs": [],
   "source": [
    "df2 = df.drop('moves',axis=1)"
   ]
  },
  {
   "cell_type": "code",
   "execution_count": 20,
   "id": "e9de5d9a",
   "metadata": {
    "scrolled": false
   },
   "outputs": [
    {
     "data": {
      "text/plain": [
       "resign       11147\n",
       "mate          6325\n",
       "outoftime     1680\n",
       "draw           906\n",
       "Name: victory_status, dtype: int64"
      ]
     },
     "execution_count": 20,
     "metadata": {},
     "output_type": "execute_result"
    }
   ],
   "source": [
    "df2['victory_status'].value_counts()"
   ]
  },
  {
   "cell_type": "code",
   "execution_count": 21,
   "id": "546d5e1e",
   "metadata": {
    "scrolled": true
   },
   "outputs": [
    {
     "name": "stderr",
     "output_type": "stream",
     "text": [
      "C:\\ProgramData\\Anaconda3\\envs\\metis\\lib\\site-packages\\seaborn\\_decorators.py:36: FutureWarning: Pass the following variable as a keyword arg: x. From version 0.12, the only valid positional argument will be `data`, and passing other arguments without an explicit keyword will result in an error or misinterpretation.\n",
      "  warnings.warn(\n"
     ]
    },
    {
     "data": {
      "text/plain": [
       "<AxesSubplot:xlabel='victory_status', ylabel='count'>"
      ]
     },
     "execution_count": 21,
     "metadata": {},
     "output_type": "execute_result"
    },
    {
     "data": {
      "image/png": "[encoded data removed]",
      "text/plain": [
       "<Figure size 432x288 with 1 Axes>"
      ]
     },
     "metadata": {
      "needs_background": "light"
     },
     "output_type": "display_data"
    }
   ],
   "source": [
    "sns.countplot('victory_status',data=df2)"
   ]
  },
  {
   "cell_type": "code",
   "execution_count": 30,
   "id": "e8d69ddd",
   "metadata": {},
   "outputs": [
    {
     "data": {
      "text/plain": [
       "(1496.752, 1500.584]    885\n",
       "(1500.584, 1504.416]    132\n",
       "(1546.568, 1550.4]      130\n",
       "(1561.896, 1565.728]    128\n",
       "(1707.512, 1711.344]    127\n",
       "                       ... \n",
       "(2477.744, 2481.576]      0\n",
       "(2588.872, 2592.704]      0\n",
       "(2592.704, 2596.536]      0\n",
       "(2596.536, 2600.368]      0\n",
       "(2535.224, 2539.056]      0\n",
       "Name: white_rating, Length: 500, dtype: int64"
      ]
     },
     "execution_count": 30,
     "metadata": {},
     "output_type": "execute_result"
    }
   ],
   "source": [
    "df2['white_rating'].value_counts(bins=500)"
   ]
  },
  {
   "cell_type": "markdown",
   "id": "5de2b3f6",
   "metadata": {},
   "source": [
    "above target data would require some engineering , due to the fact that resign is the opposite of winning. "
   ]
  },
  {
   "cell_type": "markdown",
   "id": "cb29d451",
   "metadata": {},
   "source": [
    "but the Scope is opening move for white... so ...resign is for white losing , mate is for white winning "
   ]
  },
  {
   "cell_type": "markdown",
   "id": "7d14531c",
   "metadata": {},
   "source": [
    "there seems to be some imbalance between losing and winning"
   ]
  },
  {
   "cell_type": "markdown",
   "id": "ead13247",
   "metadata": {},
   "source": [
    "Question to teacher : Multi class imbalance how to handle ?"
   ]
  },
  {
   "cell_type": "code",
   "execution_count": 23,
   "id": "1e5c3cb2",
   "metadata": {},
   "outputs": [
    {
     "name": "stderr",
     "output_type": "stream",
     "text": [
      "C:\\ProgramData\\Anaconda3\\envs\\metis\\lib\\site-packages\\seaborn\\_decorators.py:36: FutureWarning: Pass the following variable as a keyword arg: x. From version 0.12, the only valid positional argument will be `data`, and passing other arguments without an explicit keyword will result in an error or misinterpretation.\n",
      "  warnings.warn(\n"
     ]
    },
    {
     "data": {
      "text/plain": [
       "<AxesSubplot:xlabel='winner', ylabel='count'>"
      ]
     },
     "execution_count": 23,
     "metadata": {},
     "output_type": "execute_result"
    },
    {
     "data": {
      "image/png": "[encoded data removed]",
      "text/plain": [
       "<Figure size 432x288 with 1 Axes>"
      ]
     },
     "metadata": {
      "needs_background": "light"
     },
     "output_type": "display_data"
    }
   ],
   "source": [
    "sns.countplot(df2['winner'])"
   ]
  },
  {
   "cell_type": "code",
   "execution_count": 32,
   "id": "55574a9b",
   "metadata": {},
   "outputs": [
    {
     "data": {
      "text/plain": [
       "id                0\n",
       "rated             0\n",
       "created_at        0\n",
       "last_move_at      0\n",
       "turns             0\n",
       "victory_status    0\n",
       "winner            0\n",
       "increment_code    0\n",
       "white_id          0\n",
       "white_rating      0\n",
       "black_id          0\n",
       "black_rating      0\n",
       "opening_eco       0\n",
       "opening_name      0\n",
       "opening_ply       0\n",
       "dtype: int64"
      ]
     },
     "execution_count": 32,
     "metadata": {},
     "output_type": "execute_result"
    }
   ],
   "source": [
    "df2.isna().sum()"
   ]
  },
  {
   "cell_type": "code",
   "execution_count": 34,
   "id": "6a755abe",
   "metadata": {},
   "outputs": [],
   "source": [
    "df2['ratings_diff'] = df2['white_rating']-df2['black_rating']"
   ]
  },
  {
   "cell_type": "code",
   "execution_count": 35,
   "id": "2d9a08d9",
   "metadata": {},
   "outputs": [
    {
     "name": "stdout",
     "output_type": "stream",
     "text": [
      "<class 'pandas.core.frame.DataFrame'>\n",
      "RangeIndex: 20058 entries, 0 to 20057\n",
      "Data columns (total 16 columns):\n",
      " #   Column          Non-Null Count  Dtype  \n",
      "---  ------          --------------  -----  \n",
      " 0   id              20058 non-null  object \n",
      " 1   rated           20058 non-null  bool   \n",
      " 2   created_at      20058 non-null  float64\n",
      " 3   last_move_at    20058 non-null  float64\n",
      " 4   turns           20058 non-null  int64  \n",
      " 5   victory_status  20058 non-null  object \n",
      " 6   winner          20058 non-null  object \n",
      " 7   increment_code  20058 non-null  object \n",
      " 8   white_id        20058 non-null  object \n",
      " 9   white_rating    20058 non-null  int64  \n",
      " 10  black_id        20058 non-null  object \n",
      " 11  black_rating    20058 non-null  int64  \n",
      " 12  opening_eco     20058 non-null  object \n",
      " 13  opening_name    20058 non-null  object \n",
      " 14  opening_ply     20058 non-null  int64  \n",
      " 15  ratings_diff    20058 non-null  int64  \n",
      "dtypes: bool(1), float64(2), int64(5), object(8)\n",
      "memory usage: 2.3+ MB\n"
     ]
    }
   ],
   "source": [
    "df2.info()"
   ]
  },
  {
   "cell_type": "code",
   "execution_count": 46,
   "id": "a501bfae",
   "metadata": {},
   "outputs": [
    {
     "data": {
      "text/plain": [
       "<AxesSubplot:xlabel='ratings_diff', ylabel='Count'>"
      ]
     },
     "execution_count": 46,
     "metadata": {},
     "output_type": "execute_result"
    },
    {
     "data": {
      "image/png": "[encoded data removed]",
      "text/plain": [
       "<Figure size 432x288 with 1 Axes>"
      ]
     },
     "metadata": {
      "needs_background": "light"
     },
     "output_type": "display_data"
    }
   ],
   "source": [
    "sns.histplot(df2['ratings_diff'],bins=20)"
   ]
  },
  {
   "cell_type": "code",
   "execution_count": null,
   "id": "17cf609d",
   "metadata": {},
   "outputs": [],
   "source": [
    "sns.countplot(df2['opening_name'])\n"
   ]
  },
  {
   "cell_type": "code",
   "execution_count": 50,
   "id": "8906b2c3",
   "metadata": {},
   "outputs": [
    {
     "data": {
      "text/plain": [
       "A00    1007\n",
       "C00     844\n",
       "D00     739\n",
       "B01     716\n",
       "C41     691\n",
       "       ... \n",
       "A33       1\n",
       "D22       1\n",
       "E44       1\n",
       "B58       1\n",
       "D19       1\n",
       "Name: opening_eco, Length: 365, dtype: int64"
      ]
     },
     "execution_count": 50,
     "metadata": {},
     "output_type": "execute_result"
    }
   ],
   "source": [
    "df2['opening_eco'].value_counts()"
   ]
  },
  {
   "cell_type": "code",
   "execution_count": 58,
   "id": "4d9302c8",
   "metadata": {},
   "outputs": [
    {
     "data": {
      "text/plain": [
       "winner  opening_name                               \n",
       "black   Van't Kruijs Opening                           226\n",
       "        Sicilian Defense                               194\n",
       "        Sicilian Defense: Bowdler Attack               164\n",
       "        Scandinavian Defense                           123\n",
       "        French Defense: Knight Variation               121\n",
       "                                                      ... \n",
       "white   Zukertort Opening: Basman Defense                1\n",
       "        Zukertort Opening: Double Fianchetto Attack      1\n",
       "        Zukertort Opening: Lisitsyn Gambit               1\n",
       "        Zukertort Opening: The Walrus                    1\n",
       "        Zukertort Opening: Vos Gambit                    1\n",
       "Name: opening_name, Length: 2739, dtype: int64"
      ]
     },
     "execution_count": 58,
     "metadata": {},
     "output_type": "execute_result"
    }
   ],
   "source": []
  },
  {
   "cell_type": "code",
   "execution_count": 67,
   "id": "f76f1b87",
   "metadata": {},
   "outputs": [
    {
     "data": {
      "text/plain": [
       "1477"
      ]
     },
     "execution_count": 67,
     "metadata": {},
     "output_type": "execute_result"
    }
   ],
   "source": [
    "# need short opening names with variations. as we have got a lot of non unique recrods\n",
    "df2['opening_name'].nunique()"
   ]
  },
  {
   "cell_type": "code",
   "execution_count": 69,
   "id": "c1944e65",
   "metadata": {},
   "outputs": [],
   "source": [
    "df2['opening_name_shrt'] =df2['opening_name'].str.split(\":\")"
   ]
  },
  {
   "cell_type": "code",
   "execution_count": 71,
   "id": "8c83fd95",
   "metadata": {},
   "outputs": [
    {
     "data": {
      "text/html": [
       "<div>\n",
       "<style scoped>\n",
       "    .dataframe tbody tr th:only-of-type {\n",
       "        vertical-align: middle;\n",
       "    }\n",
       "\n",
       "    .dataframe tbody tr th {\n",
       "        vertical-align: top;\n",
       "    }\n",
       "\n",
       "    .dataframe thead th {\n",
       "        text-align: right;\n",
       "    }\n",
       "</style>\n",
       "<table border=\"1\" class=\"dataframe\">\n",
       "  <thead>\n",
       "    <tr style=\"text-align: right;\">\n",
       "      <th></th>\n",
       "      <th>id</th>\n",
       "      <th>rated</th>\n",
       "      <th>created_at</th>\n",
       "      <th>last_move_at</th>\n",
       "      <th>turns</th>\n",
       "      <th>victory_status</th>\n",
       "      <th>winner</th>\n",
       "      <th>increment_code</th>\n",
       "      <th>white_id</th>\n",
       "      <th>white_rating</th>\n",
       "      <th>black_id</th>\n",
       "      <th>black_rating</th>\n",
       "      <th>opening_eco</th>\n",
       "      <th>opening_name</th>\n",
       "      <th>opening_ply</th>\n",
       "      <th>ratings_diff</th>\n",
       "      <th>opening_name_shrt</th>\n",
       "    </tr>\n",
       "  </thead>\n",
       "  <tbody>\n",
       "    <tr>\n",
       "      <th>0</th>\n",
       "      <td>TZJHLljE</td>\n",
       "      <td>False</td>\n",
       "      <td>1.504210e+12</td>\n",
       "      <td>1.504210e+12</td>\n",
       "      <td>13</td>\n",
       "      <td>outoftime</td>\n",
       "      <td>white</td>\n",
       "      <td>15+2</td>\n",
       "      <td>bourgris</td>\n",
       "      <td>1500</td>\n",
       "      <td>a-00</td>\n",
       "      <td>1191</td>\n",
       "      <td>D10</td>\n",
       "      <td>Slav Defense: Exchange Variation</td>\n",
       "      <td>5</td>\n",
       "      <td>309</td>\n",
       "      <td>[Slav Defense,  Exchange Variation]</td>\n",
       "    </tr>\n",
       "    <tr>\n",
       "      <th>1</th>\n",
       "      <td>l1NXvwaE</td>\n",
       "      <td>True</td>\n",
       "      <td>1.504130e+12</td>\n",
       "      <td>1.504130e+12</td>\n",
       "      <td>16</td>\n",
       "      <td>resign</td>\n",
       "      <td>black</td>\n",
       "      <td>5+10</td>\n",
       "      <td>a-00</td>\n",
       "      <td>1322</td>\n",
       "      <td>skinnerua</td>\n",
       "      <td>1261</td>\n",
       "      <td>B00</td>\n",
       "      <td>Nimzowitsch Defense: Kennedy Variation</td>\n",
       "      <td>4</td>\n",
       "      <td>61</td>\n",
       "      <td>[Nimzowitsch Defense,  Kennedy Variation]</td>\n",
       "    </tr>\n",
       "    <tr>\n",
       "      <th>2</th>\n",
       "      <td>mIICvQHh</td>\n",
       "      <td>True</td>\n",
       "      <td>1.504130e+12</td>\n",
       "      <td>1.504130e+12</td>\n",
       "      <td>61</td>\n",
       "      <td>mate</td>\n",
       "      <td>white</td>\n",
       "      <td>5+10</td>\n",
       "      <td>ischia</td>\n",
       "      <td>1496</td>\n",
       "      <td>a-00</td>\n",
       "      <td>1500</td>\n",
       "      <td>C20</td>\n",
       "      <td>King's Pawn Game: Leonardis Variation</td>\n",
       "      <td>3</td>\n",
       "      <td>-4</td>\n",
       "      <td>[King's Pawn Game,  Leonardis Variation]</td>\n",
       "    </tr>\n",
       "    <tr>\n",
       "      <th>3</th>\n",
       "      <td>kWKvrqYL</td>\n",
       "      <td>True</td>\n",
       "      <td>1.504110e+12</td>\n",
       "      <td>1.504110e+12</td>\n",
       "      <td>61</td>\n",
       "      <td>mate</td>\n",
       "      <td>white</td>\n",
       "      <td>20+0</td>\n",
       "      <td>daniamurashov</td>\n",
       "      <td>1439</td>\n",
       "      <td>adivanov2009</td>\n",
       "      <td>1454</td>\n",
       "      <td>D02</td>\n",
       "      <td>Queen's Pawn Game: Zukertort Variation</td>\n",
       "      <td>3</td>\n",
       "      <td>-15</td>\n",
       "      <td>[Queen's Pawn Game,  Zukertort Variation]</td>\n",
       "    </tr>\n",
       "    <tr>\n",
       "      <th>4</th>\n",
       "      <td>9tXo1AUZ</td>\n",
       "      <td>True</td>\n",
       "      <td>1.504030e+12</td>\n",
       "      <td>1.504030e+12</td>\n",
       "      <td>95</td>\n",
       "      <td>mate</td>\n",
       "      <td>white</td>\n",
       "      <td>30+3</td>\n",
       "      <td>nik221107</td>\n",
       "      <td>1523</td>\n",
       "      <td>adivanov2009</td>\n",
       "      <td>1469</td>\n",
       "      <td>C41</td>\n",
       "      <td>Philidor Defense</td>\n",
       "      <td>5</td>\n",
       "      <td>54</td>\n",
       "      <td>[Philidor Defense]</td>\n",
       "    </tr>\n",
       "    <tr>\n",
       "      <th>...</th>\n",
       "      <td>...</td>\n",
       "      <td>...</td>\n",
       "      <td>...</td>\n",
       "      <td>...</td>\n",
       "      <td>...</td>\n",
       "      <td>...</td>\n",
       "      <td>...</td>\n",
       "      <td>...</td>\n",
       "      <td>...</td>\n",
       "      <td>...</td>\n",
       "      <td>...</td>\n",
       "      <td>...</td>\n",
       "      <td>...</td>\n",
       "      <td>...</td>\n",
       "      <td>...</td>\n",
       "      <td>...</td>\n",
       "      <td>...</td>\n",
       "    </tr>\n",
       "    <tr>\n",
       "      <th>20053</th>\n",
       "      <td>EfqH7VVH</td>\n",
       "      <td>True</td>\n",
       "      <td>1.499791e+12</td>\n",
       "      <td>1.499791e+12</td>\n",
       "      <td>24</td>\n",
       "      <td>resign</td>\n",
       "      <td>white</td>\n",
       "      <td>10+10</td>\n",
       "      <td>belcolt</td>\n",
       "      <td>1691</td>\n",
       "      <td>jamboger</td>\n",
       "      <td>1220</td>\n",
       "      <td>A80</td>\n",
       "      <td>Dutch Defense</td>\n",
       "      <td>2</td>\n",
       "      <td>471</td>\n",
       "      <td>[Dutch Defense]</td>\n",
       "    </tr>\n",
       "    <tr>\n",
       "      <th>20054</th>\n",
       "      <td>WSJDhbPl</td>\n",
       "      <td>True</td>\n",
       "      <td>1.499698e+12</td>\n",
       "      <td>1.499699e+12</td>\n",
       "      <td>82</td>\n",
       "      <td>mate</td>\n",
       "      <td>black</td>\n",
       "      <td>10+0</td>\n",
       "      <td>jamboger</td>\n",
       "      <td>1233</td>\n",
       "      <td>farrukhasomiddinov</td>\n",
       "      <td>1196</td>\n",
       "      <td>A41</td>\n",
       "      <td>Queen's Pawn</td>\n",
       "      <td>2</td>\n",
       "      <td>37</td>\n",
       "      <td>[Queen's Pawn]</td>\n",
       "    </tr>\n",
       "    <tr>\n",
       "      <th>20055</th>\n",
       "      <td>yrAas0Kj</td>\n",
       "      <td>True</td>\n",
       "      <td>1.499698e+12</td>\n",
       "      <td>1.499698e+12</td>\n",
       "      <td>35</td>\n",
       "      <td>mate</td>\n",
       "      <td>white</td>\n",
       "      <td>10+0</td>\n",
       "      <td>jamboger</td>\n",
       "      <td>1219</td>\n",
       "      <td>schaaksmurf3</td>\n",
       "      <td>1286</td>\n",
       "      <td>D00</td>\n",
       "      <td>Queen's Pawn Game: Mason Attack</td>\n",
       "      <td>3</td>\n",
       "      <td>-67</td>\n",
       "      <td>[Queen's Pawn Game,  Mason Attack]</td>\n",
       "    </tr>\n",
       "    <tr>\n",
       "      <th>20056</th>\n",
       "      <td>b0v4tRyF</td>\n",
       "      <td>True</td>\n",
       "      <td>1.499696e+12</td>\n",
       "      <td>1.499697e+12</td>\n",
       "      <td>109</td>\n",
       "      <td>resign</td>\n",
       "      <td>white</td>\n",
       "      <td>10+0</td>\n",
       "      <td>marcodisogno</td>\n",
       "      <td>1360</td>\n",
       "      <td>jamboger</td>\n",
       "      <td>1227</td>\n",
       "      <td>B07</td>\n",
       "      <td>Pirc Defense</td>\n",
       "      <td>4</td>\n",
       "      <td>133</td>\n",
       "      <td>[Pirc Defense]</td>\n",
       "    </tr>\n",
       "    <tr>\n",
       "      <th>20057</th>\n",
       "      <td>N8G2JHGG</td>\n",
       "      <td>True</td>\n",
       "      <td>1.499643e+12</td>\n",
       "      <td>1.499644e+12</td>\n",
       "      <td>78</td>\n",
       "      <td>mate</td>\n",
       "      <td>black</td>\n",
       "      <td>10+0</td>\n",
       "      <td>jamboger</td>\n",
       "      <td>1235</td>\n",
       "      <td>ffbob</td>\n",
       "      <td>1339</td>\n",
       "      <td>D00</td>\n",
       "      <td>Queen's Pawn Game: Mason Attack</td>\n",
       "      <td>3</td>\n",
       "      <td>-104</td>\n",
       "      <td>[Queen's Pawn Game,  Mason Attack]</td>\n",
       "    </tr>\n",
       "  </tbody>\n",
       "</table>\n",
       "<p>20058 rows × 17 columns</p>\n",
       "</div>"
      ],
      "text/plain": [
       "             id  rated    created_at  last_move_at  turns victory_status  \\\n",
       "0      TZJHLljE  False  1.504210e+12  1.504210e+12     13      outoftime   \n",
       "1      l1NXvwaE   True  1.504130e+12  1.504130e+12     16         resign   \n",
       "2      mIICvQHh   True  1.504130e+12  1.504130e+12     61           mate   \n",
       "3      kWKvrqYL   True  1.504110e+12  1.504110e+12     61           mate   \n",
       "4      9tXo1AUZ   True  1.504030e+12  1.504030e+12     95           mate   \n",
       "...         ...    ...           ...           ...    ...            ...   \n",
       "20053  EfqH7VVH   True  1.499791e+12  1.499791e+12     24         resign   \n",
       "20054  WSJDhbPl   True  1.499698e+12  1.499699e+12     82           mate   \n",
       "20055  yrAas0Kj   True  1.499698e+12  1.499698e+12     35           mate   \n",
       "20056  b0v4tRyF   True  1.499696e+12  1.499697e+12    109         resign   \n",
       "20057  N8G2JHGG   True  1.499643e+12  1.499644e+12     78           mate   \n",
       "\n",
       "      winner increment_code       white_id  white_rating            black_id  \\\n",
       "0      white           15+2       bourgris          1500                a-00   \n",
       "1      black           5+10           a-00          1322           skinnerua   \n",
       "2      white           5+10         ischia          1496                a-00   \n",
       "3      white           20+0  daniamurashov          1439        adivanov2009   \n",
       "4      white           30+3      nik221107          1523        adivanov2009   \n",
       "...      ...            ...            ...           ...                 ...   \n",
       "20053  white          10+10        belcolt          1691            jamboger   \n",
       "20054  black           10+0       jamboger          1233  farrukhasomiddinov   \n",
       "20055  white           10+0       jamboger          1219        schaaksmurf3   \n",
       "20056  white           10+0   marcodisogno          1360            jamboger   \n",
       "20057  black           10+0       jamboger          1235               ffbob   \n",
       "\n",
       "       black_rating opening_eco                            opening_name  \\\n",
       "0              1191         D10        Slav Defense: Exchange Variation   \n",
       "1              1261         B00  Nimzowitsch Defense: Kennedy Variation   \n",
       "2              1500         C20   King's Pawn Game: Leonardis Variation   \n",
       "3              1454         D02  Queen's Pawn Game: Zukertort Variation   \n",
       "4              1469         C41                        Philidor Defense   \n",
       "...             ...         ...                                     ...   \n",
       "20053          1220         A80                           Dutch Defense   \n",
       "20054          1196         A41                            Queen's Pawn   \n",
       "20055          1286         D00         Queen's Pawn Game: Mason Attack   \n",
       "20056          1227         B07                            Pirc Defense   \n",
       "20057          1339         D00         Queen's Pawn Game: Mason Attack   \n",
       "\n",
       "       opening_ply  ratings_diff                          opening_name_shrt  \n",
       "0                5           309        [Slav Defense,  Exchange Variation]  \n",
       "1                4            61  [Nimzowitsch Defense,  Kennedy Variation]  \n",
       "2                3            -4   [King's Pawn Game,  Leonardis Variation]  \n",
       "3                3           -15  [Queen's Pawn Game,  Zukertort Variation]  \n",
       "4                5            54                         [Philidor Defense]  \n",
       "...            ...           ...                                        ...  \n",
       "20053            2           471                            [Dutch Defense]  \n",
       "20054            2            37                             [Queen's Pawn]  \n",
       "20055            3           -67         [Queen's Pawn Game,  Mason Attack]  \n",
       "20056            4           133                             [Pirc Defense]  \n",
       "20057            3          -104         [Queen's Pawn Game,  Mason Attack]  \n",
       "\n",
       "[20058 rows x 17 columns]"
      ]
     },
     "execution_count": 71,
     "metadata": {},
     "output_type": "execute_result"
    }
   ],
   "source": [
    "df2"
   ]
  },
  {
   "cell_type": "code",
   "execution_count": 78,
   "id": "946ab137",
   "metadata": {},
   "outputs": [],
   "source": [
    "df2['rated']= df2.rated.replace('True',0)"
   ]
  },
  {
   "cell_type": "code",
   "execution_count": 79,
   "id": "c47b4de7",
   "metadata": {},
   "outputs": [
    {
     "data": {
      "text/html": [
       "<div>\n",
       "<style scoped>\n",
       "    .dataframe tbody tr th:only-of-type {\n",
       "        vertical-align: middle;\n",
       "    }\n",
       "\n",
       "    .dataframe tbody tr th {\n",
       "        vertical-align: top;\n",
       "    }\n",
       "\n",
       "    .dataframe thead th {\n",
       "        text-align: right;\n",
       "    }\n",
       "</style>\n",
       "<table border=\"1\" class=\"dataframe\">\n",
       "  <thead>\n",
       "    <tr style=\"text-align: right;\">\n",
       "      <th></th>\n",
       "      <th>id</th>\n",
       "      <th>rated</th>\n",
       "      <th>created_at</th>\n",
       "      <th>last_move_at</th>\n",
       "      <th>turns</th>\n",
       "      <th>victory_status</th>\n",
       "      <th>winner</th>\n",
       "      <th>increment_code</th>\n",
       "      <th>white_id</th>\n",
       "      <th>white_rating</th>\n",
       "      <th>black_id</th>\n",
       "      <th>black_rating</th>\n",
       "      <th>opening_eco</th>\n",
       "      <th>opening_name</th>\n",
       "      <th>opening_ply</th>\n",
       "      <th>ratings_diff</th>\n",
       "      <th>opening_name_shrt</th>\n",
       "    </tr>\n",
       "  </thead>\n",
       "  <tbody>\n",
       "    <tr>\n",
       "      <th>0</th>\n",
       "      <td>TZJHLljE</td>\n",
       "      <td>False</td>\n",
       "      <td>1.504210e+12</td>\n",
       "      <td>1.504210e+12</td>\n",
       "      <td>13</td>\n",
       "      <td>outoftime</td>\n",
       "      <td>white</td>\n",
       "      <td>15+2</td>\n",
       "      <td>bourgris</td>\n",
       "      <td>1500</td>\n",
       "      <td>a-00</td>\n",
       "      <td>1191</td>\n",
       "      <td>D10</td>\n",
       "      <td>Slav Defense: Exchange Variation</td>\n",
       "      <td>5</td>\n",
       "      <td>309</td>\n",
       "      <td>[Slav Defense,  Exchange Variation]</td>\n",
       "    </tr>\n",
       "    <tr>\n",
       "      <th>1</th>\n",
       "      <td>l1NXvwaE</td>\n",
       "      <td>True</td>\n",
       "      <td>1.504130e+12</td>\n",
       "      <td>1.504130e+12</td>\n",
       "      <td>16</td>\n",
       "      <td>resign</td>\n",
       "      <td>black</td>\n",
       "      <td>5+10</td>\n",
       "      <td>a-00</td>\n",
       "      <td>1322</td>\n",
       "      <td>skinnerua</td>\n",
       "      <td>1261</td>\n",
       "      <td>B00</td>\n",
       "      <td>Nimzowitsch Defense: Kennedy Variation</td>\n",
       "      <td>4</td>\n",
       "      <td>61</td>\n",
       "      <td>[Nimzowitsch Defense,  Kennedy Variation]</td>\n",
       "    </tr>\n",
       "    <tr>\n",
       "      <th>2</th>\n",
       "      <td>mIICvQHh</td>\n",
       "      <td>True</td>\n",
       "      <td>1.504130e+12</td>\n",
       "      <td>1.504130e+12</td>\n",
       "      <td>61</td>\n",
       "      <td>mate</td>\n",
       "      <td>white</td>\n",
       "      <td>5+10</td>\n",
       "      <td>ischia</td>\n",
       "      <td>1496</td>\n",
       "      <td>a-00</td>\n",
       "      <td>1500</td>\n",
       "      <td>C20</td>\n",
       "      <td>King's Pawn Game: Leonardis Variation</td>\n",
       "      <td>3</td>\n",
       "      <td>-4</td>\n",
       "      <td>[King's Pawn Game,  Leonardis Variation]</td>\n",
       "    </tr>\n",
       "    <tr>\n",
       "      <th>3</th>\n",
       "      <td>kWKvrqYL</td>\n",
       "      <td>True</td>\n",
       "      <td>1.504110e+12</td>\n",
       "      <td>1.504110e+12</td>\n",
       "      <td>61</td>\n",
       "      <td>mate</td>\n",
       "      <td>white</td>\n",
       "      <td>20+0</td>\n",
       "      <td>daniamurashov</td>\n",
       "      <td>1439</td>\n",
       "      <td>adivanov2009</td>\n",
       "      <td>1454</td>\n",
       "      <td>D02</td>\n",
       "      <td>Queen's Pawn Game: Zukertort Variation</td>\n",
       "      <td>3</td>\n",
       "      <td>-15</td>\n",
       "      <td>[Queen's Pawn Game,  Zukertort Variation]</td>\n",
       "    </tr>\n",
       "    <tr>\n",
       "      <th>4</th>\n",
       "      <td>9tXo1AUZ</td>\n",
       "      <td>True</td>\n",
       "      <td>1.504030e+12</td>\n",
       "      <td>1.504030e+12</td>\n",
       "      <td>95</td>\n",
       "      <td>mate</td>\n",
       "      <td>white</td>\n",
       "      <td>30+3</td>\n",
       "      <td>nik221107</td>\n",
       "      <td>1523</td>\n",
       "      <td>adivanov2009</td>\n",
       "      <td>1469</td>\n",
       "      <td>C41</td>\n",
       "      <td>Philidor Defense</td>\n",
       "      <td>5</td>\n",
       "      <td>54</td>\n",
       "      <td>[Philidor Defense]</td>\n",
       "    </tr>\n",
       "    <tr>\n",
       "      <th>...</th>\n",
       "      <td>...</td>\n",
       "      <td>...</td>\n",
       "      <td>...</td>\n",
       "      <td>...</td>\n",
       "      <td>...</td>\n",
       "      <td>...</td>\n",
       "      <td>...</td>\n",
       "      <td>...</td>\n",
       "      <td>...</td>\n",
       "      <td>...</td>\n",
       "      <td>...</td>\n",
       "      <td>...</td>\n",
       "      <td>...</td>\n",
       "      <td>...</td>\n",
       "      <td>...</td>\n",
       "      <td>...</td>\n",
       "      <td>...</td>\n",
       "    </tr>\n",
       "    <tr>\n",
       "      <th>20053</th>\n",
       "      <td>EfqH7VVH</td>\n",
       "      <td>True</td>\n",
       "      <td>1.499791e+12</td>\n",
       "      <td>1.499791e+12</td>\n",
       "      <td>24</td>\n",
       "      <td>resign</td>\n",
       "      <td>white</td>\n",
       "      <td>10+10</td>\n",
       "      <td>belcolt</td>\n",
       "      <td>1691</td>\n",
       "      <td>jamboger</td>\n",
       "      <td>1220</td>\n",
       "      <td>A80</td>\n",
       "      <td>Dutch Defense</td>\n",
       "      <td>2</td>\n",
       "      <td>471</td>\n",
       "      <td>[Dutch Defense]</td>\n",
       "    </tr>\n",
       "    <tr>\n",
       "      <th>20054</th>\n",
       "      <td>WSJDhbPl</td>\n",
       "      <td>True</td>\n",
       "      <td>1.499698e+12</td>\n",
       "      <td>1.499699e+12</td>\n",
       "      <td>82</td>\n",
       "      <td>mate</td>\n",
       "      <td>black</td>\n",
       "      <td>10+0</td>\n",
       "      <td>jamboger</td>\n",
       "      <td>1233</td>\n",
       "      <td>farrukhasomiddinov</td>\n",
       "      <td>1196</td>\n",
       "      <td>A41</td>\n",
       "      <td>Queen's Pawn</td>\n",
       "      <td>2</td>\n",
       "      <td>37</td>\n",
       "      <td>[Queen's Pawn]</td>\n",
       "    </tr>\n",
       "    <tr>\n",
       "      <th>20055</th>\n",
       "      <td>yrAas0Kj</td>\n",
       "      <td>True</td>\n",
       "      <td>1.499698e+12</td>\n",
       "      <td>1.499698e+12</td>\n",
       "      <td>35</td>\n",
       "      <td>mate</td>\n",
       "      <td>white</td>\n",
       "      <td>10+0</td>\n",
       "      <td>jamboger</td>\n",
       "      <td>1219</td>\n",
       "      <td>schaaksmurf3</td>\n",
       "      <td>1286</td>\n",
       "      <td>D00</td>\n",
       "      <td>Queen's Pawn Game: Mason Attack</td>\n",
       "      <td>3</td>\n",
       "      <td>-67</td>\n",
       "      <td>[Queen's Pawn Game,  Mason Attack]</td>\n",
       "    </tr>\n",
       "    <tr>\n",
       "      <th>20056</th>\n",
       "      <td>b0v4tRyF</td>\n",
       "      <td>True</td>\n",
       "      <td>1.499696e+12</td>\n",
       "      <td>1.499697e+12</td>\n",
       "      <td>109</td>\n",
       "      <td>resign</td>\n",
       "      <td>white</td>\n",
       "      <td>10+0</td>\n",
       "      <td>marcodisogno</td>\n",
       "      <td>1360</td>\n",
       "      <td>jamboger</td>\n",
       "      <td>1227</td>\n",
       "      <td>B07</td>\n",
       "      <td>Pirc Defense</td>\n",
       "      <td>4</td>\n",
       "      <td>133</td>\n",
       "      <td>[Pirc Defense]</td>\n",
       "    </tr>\n",
       "    <tr>\n",
       "      <th>20057</th>\n",
       "      <td>N8G2JHGG</td>\n",
       "      <td>True</td>\n",
       "      <td>1.499643e+12</td>\n",
       "      <td>1.499644e+12</td>\n",
       "      <td>78</td>\n",
       "      <td>mate</td>\n",
       "      <td>black</td>\n",
       "      <td>10+0</td>\n",
       "      <td>jamboger</td>\n",
       "      <td>1235</td>\n",
       "      <td>ffbob</td>\n",
       "      <td>1339</td>\n",
       "      <td>D00</td>\n",
       "      <td>Queen's Pawn Game: Mason Attack</td>\n",
       "      <td>3</td>\n",
       "      <td>-104</td>\n",
       "      <td>[Queen's Pawn Game,  Mason Attack]</td>\n",
       "    </tr>\n",
       "  </tbody>\n",
       "</table>\n",
       "<p>20058 rows × 17 columns</p>\n",
       "</div>"
      ],
      "text/plain": [
       "             id  rated    created_at  last_move_at  turns victory_status  \\\n",
       "0      TZJHLljE  False  1.504210e+12  1.504210e+12     13      outoftime   \n",
       "1      l1NXvwaE   True  1.504130e+12  1.504130e+12     16         resign   \n",
       "2      mIICvQHh   True  1.504130e+12  1.504130e+12     61           mate   \n",
       "3      kWKvrqYL   True  1.504110e+12  1.504110e+12     61           mate   \n",
       "4      9tXo1AUZ   True  1.504030e+12  1.504030e+12     95           mate   \n",
       "...         ...    ...           ...           ...    ...            ...   \n",
       "20053  EfqH7VVH   True  1.499791e+12  1.499791e+12     24         resign   \n",
       "20054  WSJDhbPl   True  1.499698e+12  1.499699e+12     82           mate   \n",
       "20055  yrAas0Kj   True  1.499698e+12  1.499698e+12     35           mate   \n",
       "20056  b0v4tRyF   True  1.499696e+12  1.499697e+12    109         resign   \n",
       "20057  N8G2JHGG   True  1.499643e+12  1.499644e+12     78           mate   \n",
       "\n",
       "      winner increment_code       white_id  white_rating            black_id  \\\n",
       "0      white           15+2       bourgris          1500                a-00   \n",
       "1      black           5+10           a-00          1322           skinnerua   \n",
       "2      white           5+10         ischia          1496                a-00   \n",
       "3      white           20+0  daniamurashov          1439        adivanov2009   \n",
       "4      white           30+3      nik221107          1523        adivanov2009   \n",
       "...      ...            ...            ...           ...                 ...   \n",
       "20053  white          10+10        belcolt          1691            jamboger   \n",
       "20054  black           10+0       jamboger          1233  farrukhasomiddinov   \n",
       "20055  white           10+0       jamboger          1219        schaaksmurf3   \n",
       "20056  white           10+0   marcodisogno          1360            jamboger   \n",
       "20057  black           10+0       jamboger          1235               ffbob   \n",
       "\n",
       "       black_rating opening_eco                            opening_name  \\\n",
       "0              1191         D10        Slav Defense: Exchange Variation   \n",
       "1              1261         B00  Nimzowitsch Defense: Kennedy Variation   \n",
       "2              1500         C20   King's Pawn Game: Leonardis Variation   \n",
       "3              1454         D02  Queen's Pawn Game: Zukertort Variation   \n",
       "4              1469         C41                        Philidor Defense   \n",
       "...             ...         ...                                     ...   \n",
       "20053          1220         A80                           Dutch Defense   \n",
       "20054          1196         A41                            Queen's Pawn   \n",
       "20055          1286         D00         Queen's Pawn Game: Mason Attack   \n",
       "20056          1227         B07                            Pirc Defense   \n",
       "20057          1339         D00         Queen's Pawn Game: Mason Attack   \n",
       "\n",
       "       opening_ply  ratings_diff                          opening_name_shrt  \n",
       "0                5           309        [Slav Defense,  Exchange Variation]  \n",
       "1                4            61  [Nimzowitsch Defense,  Kennedy Variation]  \n",
       "2                3            -4   [King's Pawn Game,  Leonardis Variation]  \n",
       "3                3           -15  [Queen's Pawn Game,  Zukertort Variation]  \n",
       "4                5            54                         [Philidor Defense]  \n",
       "...            ...           ...                                        ...  \n",
       "20053            2           471                            [Dutch Defense]  \n",
       "20054            2            37                             [Queen's Pawn]  \n",
       "20055            3           -67         [Queen's Pawn Game,  Mason Attack]  \n",
       "20056            4           133                             [Pirc Defense]  \n",
       "20057            3          -104         [Queen's Pawn Game,  Mason Attack]  \n",
       "\n",
       "[20058 rows x 17 columns]"
      ]
     },
     "execution_count": 79,
     "metadata": {},
     "output_type": "execute_result"
    }
   ],
   "source": [
    "df2"
   ]
  },
  {
   "cell_type": "code",
   "execution_count": 81,
   "id": "099f31f8",
   "metadata": {},
   "outputs": [
    {
     "name": "stdout",
     "output_type": "stream",
     "text": [
      "<class 'pandas.core.frame.DataFrame'>\n",
      "RangeIndex: 20058 entries, 0 to 20057\n",
      "Data columns (total 17 columns):\n",
      " #   Column             Non-Null Count  Dtype  \n",
      "---  ------             --------------  -----  \n",
      " 0   id                 20058 non-null  object \n",
      " 1   rated              20058 non-null  bool   \n",
      " 2   created_at         20058 non-null  float64\n",
      " 3   last_move_at       20058 non-null  float64\n",
      " 4   turns              20058 non-null  int64  \n",
      " 5   victory_status     20058 non-null  object \n",
      " 6   winner             20058 non-null  object \n",
      " 7   increment_code     20058 non-null  object \n",
      " 8   white_id           20058 non-null  object \n",
      " 9   white_rating       20058 non-null  int64  \n",
      " 10  black_id           20058 non-null  object \n",
      " 11  black_rating       20058 non-null  int64  \n",
      " 12  opening_eco        20058 non-null  object \n",
      " 13  opening_name       20058 non-null  object \n",
      " 14  opening_ply        20058 non-null  int64  \n",
      " 15  ratings_diff       20058 non-null  int64  \n",
      " 16  opening_name_shrt  20058 non-null  object \n",
      "dtypes: bool(1), float64(2), int64(5), object(9)\n",
      "memory usage: 2.5+ MB\n"
     ]
    }
   ],
   "source": [
    "df2.info()"
   ]
  },
  {
   "cell_type": "code",
   "execution_count": 88,
   "id": "f9a55033",
   "metadata": {},
   "outputs": [],
   "source": [
    "df3 = df2.drop(columns=['id','created_at','last_move_at','white_id','black_id','increment_code','opening_eco',],axis=1)"
   ]
  },
  {
   "cell_type": "code",
   "execution_count": 90,
   "id": "580a76f6",
   "metadata": {},
   "outputs": [
    {
     "name": "stdout",
     "output_type": "stream",
     "text": [
      "<class 'pandas.core.frame.DataFrame'>\n",
      "RangeIndex: 20058 entries, 0 to 20057\n",
      "Data columns (total 10 columns):\n",
      " #   Column             Non-Null Count  Dtype \n",
      "---  ------             --------------  ----- \n",
      " 0   rated              20058 non-null  bool  \n",
      " 1   turns              20058 non-null  int64 \n",
      " 2   victory_status     20058 non-null  object\n",
      " 3   winner             20058 non-null  object\n",
      " 4   white_rating       20058 non-null  int64 \n",
      " 5   black_rating       20058 non-null  int64 \n",
      " 6   opening_name       20058 non-null  object\n",
      " 7   opening_ply        20058 non-null  int64 \n",
      " 8   ratings_diff       20058 non-null  int64 \n",
      " 9   opening_name_shrt  20058 non-null  object\n",
      "dtypes: bool(1), int64(5), object(4)\n",
      "memory usage: 1.4+ MB\n"
     ]
    }
   ],
   "source": [
    "df3.info()"
   ]
  },
  {
   "cell_type": "code",
   "execution_count": 91,
   "id": "7b861a61",
   "metadata": {},
   "outputs": [
    {
     "data": {
      "text/html": [
       "<div>\n",
       "<style scoped>\n",
       "    .dataframe tbody tr th:only-of-type {\n",
       "        vertical-align: middle;\n",
       "    }\n",
       "\n",
       "    .dataframe tbody tr th {\n",
       "        vertical-align: top;\n",
       "    }\n",
       "\n",
       "    .dataframe thead th {\n",
       "        text-align: right;\n",
       "    }\n",
       "</style>\n",
       "<table border=\"1\" class=\"dataframe\">\n",
       "  <thead>\n",
       "    <tr style=\"text-align: right;\">\n",
       "      <th></th>\n",
       "      <th>rated</th>\n",
       "      <th>turns</th>\n",
       "      <th>victory_status</th>\n",
       "      <th>winner</th>\n",
       "      <th>white_rating</th>\n",
       "      <th>black_rating</th>\n",
       "      <th>opening_name</th>\n",
       "      <th>opening_ply</th>\n",
       "      <th>ratings_diff</th>\n",
       "      <th>opening_name_shrt</th>\n",
       "    </tr>\n",
       "  </thead>\n",
       "  <tbody>\n",
       "    <tr>\n",
       "      <th>0</th>\n",
       "      <td>False</td>\n",
       "      <td>13</td>\n",
       "      <td>outoftime</td>\n",
       "      <td>white</td>\n",
       "      <td>1500</td>\n",
       "      <td>1191</td>\n",
       "      <td>Slav Defense: Exchange Variation</td>\n",
       "      <td>5</td>\n",
       "      <td>309</td>\n",
       "      <td>[Slav Defense,  Exchange Variation]</td>\n",
       "    </tr>\n",
       "    <tr>\n",
       "      <th>1</th>\n",
       "      <td>True</td>\n",
       "      <td>16</td>\n",
       "      <td>resign</td>\n",
       "      <td>black</td>\n",
       "      <td>1322</td>\n",
       "      <td>1261</td>\n",
       "      <td>Nimzowitsch Defense: Kennedy Variation</td>\n",
       "      <td>4</td>\n",
       "      <td>61</td>\n",
       "      <td>[Nimzowitsch Defense,  Kennedy Variation]</td>\n",
       "    </tr>\n",
       "    <tr>\n",
       "      <th>2</th>\n",
       "      <td>True</td>\n",
       "      <td>61</td>\n",
       "      <td>mate</td>\n",
       "      <td>white</td>\n",
       "      <td>1496</td>\n",
       "      <td>1500</td>\n",
       "      <td>King's Pawn Game: Leonardis Variation</td>\n",
       "      <td>3</td>\n",
       "      <td>-4</td>\n",
       "      <td>[King's Pawn Game,  Leonardis Variation]</td>\n",
       "    </tr>\n",
       "    <tr>\n",
       "      <th>3</th>\n",
       "      <td>True</td>\n",
       "      <td>61</td>\n",
       "      <td>mate</td>\n",
       "      <td>white</td>\n",
       "      <td>1439</td>\n",
       "      <td>1454</td>\n",
       "      <td>Queen's Pawn Game: Zukertort Variation</td>\n",
       "      <td>3</td>\n",
       "      <td>-15</td>\n",
       "      <td>[Queen's Pawn Game,  Zukertort Variation]</td>\n",
       "    </tr>\n",
       "    <tr>\n",
       "      <th>4</th>\n",
       "      <td>True</td>\n",
       "      <td>95</td>\n",
       "      <td>mate</td>\n",
       "      <td>white</td>\n",
       "      <td>1523</td>\n",
       "      <td>1469</td>\n",
       "      <td>Philidor Defense</td>\n",
       "      <td>5</td>\n",
       "      <td>54</td>\n",
       "      <td>[Philidor Defense]</td>\n",
       "    </tr>\n",
       "  </tbody>\n",
       "</table>\n",
       "</div>"
      ],
      "text/plain": [
       "   rated  turns victory_status winner  white_rating  black_rating  \\\n",
       "0  False     13      outoftime  white          1500          1191   \n",
       "1   True     16         resign  black          1322          1261   \n",
       "2   True     61           mate  white          1496          1500   \n",
       "3   True     61           mate  white          1439          1454   \n",
       "4   True     95           mate  white          1523          1469   \n",
       "\n",
       "                             opening_name  opening_ply  ratings_diff  \\\n",
       "0        Slav Defense: Exchange Variation            5           309   \n",
       "1  Nimzowitsch Defense: Kennedy Variation            4            61   \n",
       "2   King's Pawn Game: Leonardis Variation            3            -4   \n",
       "3  Queen's Pawn Game: Zukertort Variation            3           -15   \n",
       "4                        Philidor Defense            5            54   \n",
       "\n",
       "                           opening_name_shrt  \n",
       "0        [Slav Defense,  Exchange Variation]  \n",
       "1  [Nimzowitsch Defense,  Kennedy Variation]  \n",
       "2   [King's Pawn Game,  Leonardis Variation]  \n",
       "3  [Queen's Pawn Game,  Zukertort Variation]  \n",
       "4                         [Philidor Defense]  "
      ]
     },
     "execution_count": 91,
     "metadata": {},
     "output_type": "execute_result"
    }
   ],
   "source": [
    "df3.head()"
   ]
  },
  {
   "cell_type": "code",
   "execution_count": 92,
   "id": "602f44ab",
   "metadata": {},
   "outputs": [
    {
     "data": {
      "text/plain": [
       "resign       11147\n",
       "mate          6325\n",
       "outoftime     1680\n",
       "draw           906\n",
       "Name: victory_status, dtype: int64"
      ]
     },
     "execution_count": 92,
     "metadata": {},
     "output_type": "execute_result"
    }
   ],
   "source": [
    "df['victory_status'].value_counts()"
   ]
  },
  {
   "cell_type": "code",
   "execution_count": 98,
   "id": "b69c3ddd",
   "metadata": {},
   "outputs": [],
   "source": [
    "df3['opening_name_shrt'] = df3['opening_name'].str.split(\":\").str[0]"
   ]
  },
  {
   "cell_type": "code",
   "execution_count": 99,
   "id": "fa2f1674",
   "metadata": {},
   "outputs": [
    {
     "data": {
      "text/html": [
       "<div>\n",
       "<style scoped>\n",
       "    .dataframe tbody tr th:only-of-type {\n",
       "        vertical-align: middle;\n",
       "    }\n",
       "\n",
       "    .dataframe tbody tr th {\n",
       "        vertical-align: top;\n",
       "    }\n",
       "\n",
       "    .dataframe thead th {\n",
       "        text-align: right;\n",
       "    }\n",
       "</style>\n",
       "<table border=\"1\" class=\"dataframe\">\n",
       "  <thead>\n",
       "    <tr style=\"text-align: right;\">\n",
       "      <th></th>\n",
       "      <th>rated</th>\n",
       "      <th>turns</th>\n",
       "      <th>victory_status</th>\n",
       "      <th>winner</th>\n",
       "      <th>white_rating</th>\n",
       "      <th>black_rating</th>\n",
       "      <th>opening_name</th>\n",
       "      <th>opening_ply</th>\n",
       "      <th>ratings_diff</th>\n",
       "      <th>opening_name_shrt</th>\n",
       "    </tr>\n",
       "  </thead>\n",
       "  <tbody>\n",
       "    <tr>\n",
       "      <th>0</th>\n",
       "      <td>False</td>\n",
       "      <td>13</td>\n",
       "      <td>outoftime</td>\n",
       "      <td>white</td>\n",
       "      <td>1500</td>\n",
       "      <td>1191</td>\n",
       "      <td>Slav Defense: Exchange Variation</td>\n",
       "      <td>5</td>\n",
       "      <td>309</td>\n",
       "      <td>Slav Defense</td>\n",
       "    </tr>\n",
       "    <tr>\n",
       "      <th>1</th>\n",
       "      <td>True</td>\n",
       "      <td>16</td>\n",
       "      <td>resign</td>\n",
       "      <td>black</td>\n",
       "      <td>1322</td>\n",
       "      <td>1261</td>\n",
       "      <td>Nimzowitsch Defense: Kennedy Variation</td>\n",
       "      <td>4</td>\n",
       "      <td>61</td>\n",
       "      <td>Nimzowitsch Defense</td>\n",
       "    </tr>\n",
       "    <tr>\n",
       "      <th>2</th>\n",
       "      <td>True</td>\n",
       "      <td>61</td>\n",
       "      <td>mate</td>\n",
       "      <td>white</td>\n",
       "      <td>1496</td>\n",
       "      <td>1500</td>\n",
       "      <td>King's Pawn Game: Leonardis Variation</td>\n",
       "      <td>3</td>\n",
       "      <td>-4</td>\n",
       "      <td>King's Pawn Game</td>\n",
       "    </tr>\n",
       "    <tr>\n",
       "      <th>3</th>\n",
       "      <td>True</td>\n",
       "      <td>61</td>\n",
       "      <td>mate</td>\n",
       "      <td>white</td>\n",
       "      <td>1439</td>\n",
       "      <td>1454</td>\n",
       "      <td>Queen's Pawn Game: Zukertort Variation</td>\n",
       "      <td>3</td>\n",
       "      <td>-15</td>\n",
       "      <td>Queen's Pawn Game</td>\n",
       "    </tr>\n",
       "    <tr>\n",
       "      <th>4</th>\n",
       "      <td>True</td>\n",
       "      <td>95</td>\n",
       "      <td>mate</td>\n",
       "      <td>white</td>\n",
       "      <td>1523</td>\n",
       "      <td>1469</td>\n",
       "      <td>Philidor Defense</td>\n",
       "      <td>5</td>\n",
       "      <td>54</td>\n",
       "      <td>Philidor Defense</td>\n",
       "    </tr>\n",
       "  </tbody>\n",
       "</table>\n",
       "</div>"
      ],
      "text/plain": [
       "   rated  turns victory_status winner  white_rating  black_rating  \\\n",
       "0  False     13      outoftime  white          1500          1191   \n",
       "1   True     16         resign  black          1322          1261   \n",
       "2   True     61           mate  white          1496          1500   \n",
       "3   True     61           mate  white          1439          1454   \n",
       "4   True     95           mate  white          1523          1469   \n",
       "\n",
       "                             opening_name  opening_ply  ratings_diff  \\\n",
       "0        Slav Defense: Exchange Variation            5           309   \n",
       "1  Nimzowitsch Defense: Kennedy Variation            4            61   \n",
       "2   King's Pawn Game: Leonardis Variation            3            -4   \n",
       "3  Queen's Pawn Game: Zukertort Variation            3           -15   \n",
       "4                        Philidor Defense            5            54   \n",
       "\n",
       "     opening_name_shrt  \n",
       "0         Slav Defense  \n",
       "1  Nimzowitsch Defense  \n",
       "2     King's Pawn Game  \n",
       "3    Queen's Pawn Game  \n",
       "4     Philidor Defense  "
      ]
     },
     "execution_count": 99,
     "metadata": {},
     "output_type": "execute_result"
    }
   ],
   "source": [
    "df3.head()"
   ]
  },
  {
   "cell_type": "code",
   "execution_count": 102,
   "id": "c730636f",
   "metadata": {},
   "outputs": [
    {
     "data": {
      "text/plain": [
       "Sicilian Defense       2573\n",
       "French Defense         1306\n",
       "Queen's Pawn Game      1059\n",
       "Italian Game            981\n",
       "King's Pawn Game        917\n",
       "                       ... \n",
       "Alekhine Defense #3       1\n",
       "Doery Defense             1\n",
       "Petrov's Defense #5       1\n",
       "Global Opening            1\n",
       "Pterodactyl Defense       1\n",
       "Name: opening_name_shrt, Length: 180, dtype: int64"
      ]
     },
     "execution_count": 102,
     "metadata": {},
     "output_type": "execute_result"
    }
   ],
   "source": [
    "df3['opening_name_shrt'].value_counts()"
   ]
  },
  {
   "cell_type": "code",
   "execution_count": 101,
   "id": "200f0bc6",
   "metadata": {},
   "outputs": [],
   "source": [
    "df3['opening_name_shrt'] = df3['opening_name_shrt'].str.split(\"|\").str[0]"
   ]
  },
  {
   "cell_type": "code",
   "execution_count": 103,
   "id": "3cf0f259",
   "metadata": {},
   "outputs": [],
   "source": [
    "df3['opening_name_shrt'] = df3['opening_name_shrt'].str.split(\"#\").str[0]"
   ]
  },
  {
   "cell_type": "code",
   "execution_count": 104,
   "id": "87e50f03",
   "metadata": {},
   "outputs": [
    {
     "data": {
      "text/plain": [
       "Sicilian Defense       2573\n",
       "French Defense         1306\n",
       "Queen's Pawn Game      1059\n",
       "Italian Game            981\n",
       "King's Pawn Game        917\n",
       "                       ... \n",
       "Global Opening            1\n",
       "Australian Defense        1\n",
       "Doery Defense             1\n",
       "Pterodactyl Defense       1\n",
       "Valencia Opening          1\n",
       "Name: opening_name_shrt, Length: 169, dtype: int64"
      ]
     },
     "execution_count": 104,
     "metadata": {},
     "output_type": "execute_result"
    }
   ],
   "source": [
    "df3['opening_name_shrt'].value_counts()"
   ]
  },
  {
   "cell_type": "code",
   "execution_count": 106,
   "id": "3d12efb9",
   "metadata": {},
   "outputs": [],
   "source": [
    "df3['opening_name_shrt'] = df3['opening_name_shrt'].str.strip()"
   ]
  },
  {
   "cell_type": "code",
   "execution_count": 107,
   "id": "31b54dec",
   "metadata": {},
   "outputs": [
    {
     "data": {
      "text/plain": [
       "Sicilian Defense       2632\n",
       "French Defense         1412\n",
       "Queen's Pawn Game      1233\n",
       "Italian Game            981\n",
       "King's Pawn Game        917\n",
       "                       ... \n",
       "Valencia Opening          1\n",
       "Doery Defense             1\n",
       "Australian Defense        1\n",
       "Pterodactyl Defense       1\n",
       "Global Opening            1\n",
       "Name: opening_name_shrt, Length: 143, dtype: int64"
      ]
     },
     "execution_count": 107,
     "metadata": {},
     "output_type": "execute_result"
    }
   ],
   "source": [
    "df3['opening_name_shrt'].value_counts()"
   ]
  },
  {
   "cell_type": "code",
   "execution_count": 109,
   "id": "38691d3b",
   "metadata": {},
   "outputs": [],
   "source": [
    "df3 = df3.drop(columns=['opening_name'], axis=1)"
   ]
  },
  {
   "cell_type": "code",
   "execution_count": 110,
   "id": "a50695f3",
   "metadata": {},
   "outputs": [
    {
     "data": {
      "text/html": [
       "<div>\n",
       "<style scoped>\n",
       "    .dataframe tbody tr th:only-of-type {\n",
       "        vertical-align: middle;\n",
       "    }\n",
       "\n",
       "    .dataframe tbody tr th {\n",
       "        vertical-align: top;\n",
       "    }\n",
       "\n",
       "    .dataframe thead th {\n",
       "        text-align: right;\n",
       "    }\n",
       "</style>\n",
       "<table border=\"1\" class=\"dataframe\">\n",
       "  <thead>\n",
       "    <tr style=\"text-align: right;\">\n",
       "      <th></th>\n",
       "      <th>rated</th>\n",
       "      <th>turns</th>\n",
       "      <th>victory_status</th>\n",
       "      <th>winner</th>\n",
       "      <th>white_rating</th>\n",
       "      <th>black_rating</th>\n",
       "      <th>opening_ply</th>\n",
       "      <th>ratings_diff</th>\n",
       "      <th>opening_name_shrt</th>\n",
       "    </tr>\n",
       "  </thead>\n",
       "  <tbody>\n",
       "    <tr>\n",
       "      <th>0</th>\n",
       "      <td>False</td>\n",
       "      <td>13</td>\n",
       "      <td>outoftime</td>\n",
       "      <td>white</td>\n",
       "      <td>1500</td>\n",
       "      <td>1191</td>\n",
       "      <td>5</td>\n",
       "      <td>309</td>\n",
       "      <td>Slav Defense</td>\n",
       "    </tr>\n",
       "    <tr>\n",
       "      <th>1</th>\n",
       "      <td>True</td>\n",
       "      <td>16</td>\n",
       "      <td>resign</td>\n",
       "      <td>black</td>\n",
       "      <td>1322</td>\n",
       "      <td>1261</td>\n",
       "      <td>4</td>\n",
       "      <td>61</td>\n",
       "      <td>Nimzowitsch Defense</td>\n",
       "    </tr>\n",
       "    <tr>\n",
       "      <th>2</th>\n",
       "      <td>True</td>\n",
       "      <td>61</td>\n",
       "      <td>mate</td>\n",
       "      <td>white</td>\n",
       "      <td>1496</td>\n",
       "      <td>1500</td>\n",
       "      <td>3</td>\n",
       "      <td>-4</td>\n",
       "      <td>King's Pawn Game</td>\n",
       "    </tr>\n",
       "    <tr>\n",
       "      <th>3</th>\n",
       "      <td>True</td>\n",
       "      <td>61</td>\n",
       "      <td>mate</td>\n",
       "      <td>white</td>\n",
       "      <td>1439</td>\n",
       "      <td>1454</td>\n",
       "      <td>3</td>\n",
       "      <td>-15</td>\n",
       "      <td>Queen's Pawn Game</td>\n",
       "    </tr>\n",
       "    <tr>\n",
       "      <th>4</th>\n",
       "      <td>True</td>\n",
       "      <td>95</td>\n",
       "      <td>mate</td>\n",
       "      <td>white</td>\n",
       "      <td>1523</td>\n",
       "      <td>1469</td>\n",
       "      <td>5</td>\n",
       "      <td>54</td>\n",
       "      <td>Philidor Defense</td>\n",
       "    </tr>\n",
       "  </tbody>\n",
       "</table>\n",
       "</div>"
      ],
      "text/plain": [
       "   rated  turns victory_status winner  white_rating  black_rating  \\\n",
       "0  False     13      outoftime  white          1500          1191   \n",
       "1   True     16         resign  black          1322          1261   \n",
       "2   True     61           mate  white          1496          1500   \n",
       "3   True     61           mate  white          1439          1454   \n",
       "4   True     95           mate  white          1523          1469   \n",
       "\n",
       "   opening_ply  ratings_diff    opening_name_shrt  \n",
       "0            5           309         Slav Defense  \n",
       "1            4            61  Nimzowitsch Defense  \n",
       "2            3            -4     King's Pawn Game  \n",
       "3            3           -15    Queen's Pawn Game  \n",
       "4            5            54     Philidor Defense  "
      ]
     },
     "execution_count": 110,
     "metadata": {},
     "output_type": "execute_result"
    }
   ],
   "source": [
    "df3.head()"
   ]
  },
  {
   "cell_type": "code",
   "execution_count": 111,
   "id": "b991dd54",
   "metadata": {},
   "outputs": [
    {
     "name": "stdout",
     "output_type": "stream",
     "text": [
      "<class 'pandas.core.frame.DataFrame'>\n",
      "RangeIndex: 20058 entries, 0 to 20057\n",
      "Data columns (total 9 columns):\n",
      " #   Column             Non-Null Count  Dtype \n",
      "---  ------             --------------  ----- \n",
      " 0   rated              20058 non-null  bool  \n",
      " 1   turns              20058 non-null  int64 \n",
      " 2   victory_status     20058 non-null  object\n",
      " 3   winner             20058 non-null  object\n",
      " 4   white_rating       20058 non-null  int64 \n",
      " 5   black_rating       20058 non-null  int64 \n",
      " 6   opening_ply        20058 non-null  int64 \n",
      " 7   ratings_diff       20058 non-null  int64 \n",
      " 8   opening_name_shrt  20058 non-null  object\n",
      "dtypes: bool(1), int64(5), object(3)\n",
      "memory usage: 1.2+ MB\n"
     ]
    }
   ],
   "source": [
    "df3.info()"
   ]
  },
  {
   "cell_type": "code",
   "execution_count": 113,
   "id": "4d7c8242",
   "metadata": {},
   "outputs": [
    {
     "data": {
      "text/plain": [
       "Index(['rated', 'turns', 'victory_status', 'winner', 'white_rating',\n",
       "       'black_rating', 'opening_ply', 'ratings_diff', 'opening_name_shrt'],\n",
       "      dtype='object')"
      ]
     },
     "execution_count": 113,
     "metadata": {},
     "output_type": "execute_result"
    }
   ],
   "source": [
    "df3.columns"
   ]
  },
  {
   "cell_type": "code",
   "execution_count": 115,
   "id": "49e78ec0",
   "metadata": {},
   "outputs": [],
   "source": [
    "df3 = df3[['rated', 'turns', 'victory_status', 'white_rating','black_rating', 'opening_ply', 'ratings_diff', 'opening_name_shrt', 'winner']]"
   ]
  },
  {
   "cell_type": "code",
   "execution_count": 116,
   "id": "8366e649",
   "metadata": {},
   "outputs": [
    {
     "name": "stdout",
     "output_type": "stream",
     "text": [
      "<class 'pandas.core.frame.DataFrame'>\n",
      "RangeIndex: 20058 entries, 0 to 20057\n",
      "Data columns (total 9 columns):\n",
      " #   Column             Non-Null Count  Dtype \n",
      "---  ------             --------------  ----- \n",
      " 0   rated              20058 non-null  bool  \n",
      " 1   turns              20058 non-null  int64 \n",
      " 2   victory_status     20058 non-null  object\n",
      " 3   white_rating       20058 non-null  int64 \n",
      " 4   black_rating       20058 non-null  int64 \n",
      " 5   opening_ply        20058 non-null  int64 \n",
      " 6   ratings_diff       20058 non-null  int64 \n",
      " 7   opening_name_shrt  20058 non-null  object\n",
      " 8   winner             20058 non-null  object\n",
      "dtypes: bool(1), int64(5), object(3)\n",
      "memory usage: 1.2+ MB\n"
     ]
    }
   ],
   "source": [
    "df3.info()"
   ]
  },
  {
   "cell_type": "code",
   "execution_count": 117,
   "id": "48298e27",
   "metadata": {},
   "outputs": [
    {
     "data": {
      "text/plain": [
       "white    10001\n",
       "black     9107\n",
       "draw       950\n",
       "Name: winner, dtype: int64"
      ]
     },
     "execution_count": 117,
     "metadata": {},
     "output_type": "execute_result"
    }
   ],
   "source": [
    "df3.winner.value_counts()"
   ]
  },
  {
   "cell_type": "code",
   "execution_count": 123,
   "id": "74679e98",
   "metadata": {},
   "outputs": [
    {
     "data": {
      "text/html": [
       "<div>\n",
       "<style scoped>\n",
       "    .dataframe tbody tr th:only-of-type {\n",
       "        vertical-align: middle;\n",
       "    }\n",
       "\n",
       "    .dataframe tbody tr th {\n",
       "        vertical-align: top;\n",
       "    }\n",
       "\n",
       "    .dataframe thead th {\n",
       "        text-align: right;\n",
       "    }\n",
       "</style>\n",
       "<table border=\"1\" class=\"dataframe\">\n",
       "  <thead>\n",
       "    <tr style=\"text-align: right;\">\n",
       "      <th></th>\n",
       "      <th>winner</th>\n",
       "      <th>value</th>\n",
       "    </tr>\n",
       "  </thead>\n",
       "  <tbody>\n",
       "    <tr>\n",
       "      <th>0</th>\n",
       "      <td>draw</td>\n",
       "      <td>0</td>\n",
       "    </tr>\n",
       "    <tr>\n",
       "      <th>1</th>\n",
       "      <td>white</td>\n",
       "      <td>1</td>\n",
       "    </tr>\n",
       "    <tr>\n",
       "      <th>2</th>\n",
       "      <td>black</td>\n",
       "      <td>2</td>\n",
       "    </tr>\n",
       "  </tbody>\n",
       "</table>\n",
       "</div>"
      ],
      "text/plain": [
       "  winner  value\n",
       "0   draw      0\n",
       "1  white      1\n",
       "2  black      2"
      ]
     },
     "execution_count": 123,
     "metadata": {},
     "output_type": "execute_result"
    }
   ],
   "source": [
    "df_winner = pd.DataFrame(data={'winner':['draw','white','black'], 'value':[0,1,2]})\n",
    "df_winner"
   ]
  },
  {
   "cell_type": "code",
   "execution_count": 126,
   "id": "38146ea2",
   "metadata": {},
   "outputs": [
    {
     "data": {
      "text/html": [
       "<div>\n",
       "<style scoped>\n",
       "    .dataframe tbody tr th:only-of-type {\n",
       "        vertical-align: middle;\n",
       "    }\n",
       "\n",
       "    .dataframe tbody tr th {\n",
       "        vertical-align: top;\n",
       "    }\n",
       "\n",
       "    .dataframe thead th {\n",
       "        text-align: right;\n",
       "    }\n",
       "</style>\n",
       "<table border=\"1\" class=\"dataframe\">\n",
       "  <thead>\n",
       "    <tr style=\"text-align: right;\">\n",
       "      <th></th>\n",
       "      <th>rated</th>\n",
       "      <th>turns</th>\n",
       "      <th>victory_status</th>\n",
       "      <th>white_rating</th>\n",
       "      <th>black_rating</th>\n",
       "      <th>opening_ply</th>\n",
       "      <th>ratings_diff</th>\n",
       "      <th>opening_name_shrt</th>\n",
       "      <th>winner</th>\n",
       "    </tr>\n",
       "  </thead>\n",
       "  <tbody>\n",
       "    <tr>\n",
       "      <th>0</th>\n",
       "      <td>False</td>\n",
       "      <td>13</td>\n",
       "      <td>outoftime</td>\n",
       "      <td>1500</td>\n",
       "      <td>1191</td>\n",
       "      <td>5</td>\n",
       "      <td>309</td>\n",
       "      <td>Slav Defense</td>\n",
       "      <td>1</td>\n",
       "    </tr>\n",
       "    <tr>\n",
       "      <th>1</th>\n",
       "      <td>True</td>\n",
       "      <td>16</td>\n",
       "      <td>resign</td>\n",
       "      <td>1322</td>\n",
       "      <td>1261</td>\n",
       "      <td>4</td>\n",
       "      <td>61</td>\n",
       "      <td>Nimzowitsch Defense</td>\n",
       "      <td>2</td>\n",
       "    </tr>\n",
       "    <tr>\n",
       "      <th>2</th>\n",
       "      <td>True</td>\n",
       "      <td>61</td>\n",
       "      <td>mate</td>\n",
       "      <td>1496</td>\n",
       "      <td>1500</td>\n",
       "      <td>3</td>\n",
       "      <td>-4</td>\n",
       "      <td>King's Pawn Game</td>\n",
       "      <td>1</td>\n",
       "    </tr>\n",
       "    <tr>\n",
       "      <th>3</th>\n",
       "      <td>True</td>\n",
       "      <td>61</td>\n",
       "      <td>mate</td>\n",
       "      <td>1439</td>\n",
       "      <td>1454</td>\n",
       "      <td>3</td>\n",
       "      <td>-15</td>\n",
       "      <td>Queen's Pawn Game</td>\n",
       "      <td>1</td>\n",
       "    </tr>\n",
       "    <tr>\n",
       "      <th>4</th>\n",
       "      <td>True</td>\n",
       "      <td>95</td>\n",
       "      <td>mate</td>\n",
       "      <td>1523</td>\n",
       "      <td>1469</td>\n",
       "      <td>5</td>\n",
       "      <td>54</td>\n",
       "      <td>Philidor Defense</td>\n",
       "      <td>1</td>\n",
       "    </tr>\n",
       "  </tbody>\n",
       "</table>\n",
       "</div>"
      ],
      "text/plain": [
       "   rated  turns victory_status  white_rating  black_rating  opening_ply  \\\n",
       "0  False     13      outoftime          1500          1191            5   \n",
       "1   True     16         resign          1322          1261            4   \n",
       "2   True     61           mate          1496          1500            3   \n",
       "3   True     61           mate          1439          1454            3   \n",
       "4   True     95           mate          1523          1469            5   \n",
       "\n",
       "   ratings_diff    opening_name_shrt  winner  \n",
       "0           309         Slav Defense       1  \n",
       "1            61  Nimzowitsch Defense       2  \n",
       "2            -4     King's Pawn Game       1  \n",
       "3           -15    Queen's Pawn Game       1  \n",
       "4            54     Philidor Defense       1  "
      ]
     },
     "execution_count": 126,
     "metadata": {},
     "output_type": "execute_result"
    }
   ],
   "source": [
    "df3['winner'] = df3.winner.replace({'draw':0,'white':1,'black':2})\n",
    "df3.head()"
   ]
  },
  {
   "cell_type": "code",
   "execution_count": 127,
   "id": "43723581",
   "metadata": {},
   "outputs": [],
   "source": [
    "# now we get dummie!"
   ]
  },
  {
   "cell_type": "code",
   "execution_count": 129,
   "id": "b4583720",
   "metadata": {},
   "outputs": [
    {
     "name": "stdout",
     "output_type": "stream",
     "text": [
      "<class 'pandas.core.frame.DataFrame'>\n",
      "RangeIndex: 20058 entries, 0 to 20057\n",
      "Data columns (total 9 columns):\n",
      " #   Column             Non-Null Count  Dtype \n",
      "---  ------             --------------  ----- \n",
      " 0   rated              20058 non-null  bool  \n",
      " 1   turns              20058 non-null  int64 \n",
      " 2   victory_status     20058 non-null  object\n",
      " 3   white_rating       20058 non-null  int64 \n",
      " 4   black_rating       20058 non-null  int64 \n",
      " 5   opening_ply        20058 non-null  int64 \n",
      " 6   ratings_diff       20058 non-null  int64 \n",
      " 7   opening_name_shrt  20058 non-null  object\n",
      " 8   winner             20058 non-null  int64 \n",
      "dtypes: bool(1), int64(6), object(2)\n",
      "memory usage: 1.2+ MB\n"
     ]
    }
   ],
   "source": [
    "df3.info()"
   ]
  },
  {
   "cell_type": "code",
   "execution_count": 128,
   "id": "0e62ff06",
   "metadata": {
    "scrolled": true
   },
   "outputs": [
    {
     "data": {
      "text/html": [
       "<div>\n",
       "<style scoped>\n",
       "    .dataframe tbody tr th:only-of-type {\n",
       "        vertical-align: middle;\n",
       "    }\n",
       "\n",
       "    .dataframe tbody tr th {\n",
       "        vertical-align: top;\n",
       "    }\n",
       "\n",
       "    .dataframe thead th {\n",
       "        text-align: right;\n",
       "    }\n",
       "</style>\n",
       "<table border=\"1\" class=\"dataframe\">\n",
       "  <thead>\n",
       "    <tr style=\"text-align: right;\">\n",
       "      <th></th>\n",
       "      <th>turns</th>\n",
       "      <th>white_rating</th>\n",
       "      <th>black_rating</th>\n",
       "      <th>opening_ply</th>\n",
       "      <th>ratings_diff</th>\n",
       "      <th>winner</th>\n",
       "    </tr>\n",
       "  </thead>\n",
       "  <tbody>\n",
       "    <tr>\n",
       "      <th>count</th>\n",
       "      <td>20058.000000</td>\n",
       "      <td>20058.000000</td>\n",
       "      <td>20058.000000</td>\n",
       "      <td>20058.000000</td>\n",
       "      <td>20058.000000</td>\n",
       "      <td>20058.000000</td>\n",
       "    </tr>\n",
       "    <tr>\n",
       "      <th>mean</th>\n",
       "      <td>60.465999</td>\n",
       "      <td>1596.631868</td>\n",
       "      <td>1588.831987</td>\n",
       "      <td>4.816981</td>\n",
       "      <td>7.799880</td>\n",
       "      <td>1.406671</td>\n",
       "    </tr>\n",
       "    <tr>\n",
       "      <th>std</th>\n",
       "      <td>33.570585</td>\n",
       "      <td>291.253376</td>\n",
       "      <td>291.036126</td>\n",
       "      <td>2.797152</td>\n",
       "      <td>249.036667</td>\n",
       "      <td>0.579682</td>\n",
       "    </tr>\n",
       "    <tr>\n",
       "      <th>min</th>\n",
       "      <td>1.000000</td>\n",
       "      <td>784.000000</td>\n",
       "      <td>789.000000</td>\n",
       "      <td>1.000000</td>\n",
       "      <td>-1605.000000</td>\n",
       "      <td>0.000000</td>\n",
       "    </tr>\n",
       "    <tr>\n",
       "      <th>25%</th>\n",
       "      <td>37.000000</td>\n",
       "      <td>1398.000000</td>\n",
       "      <td>1391.000000</td>\n",
       "      <td>3.000000</td>\n",
       "      <td>-108.000000</td>\n",
       "      <td>1.000000</td>\n",
       "    </tr>\n",
       "    <tr>\n",
       "      <th>50%</th>\n",
       "      <td>55.000000</td>\n",
       "      <td>1567.000000</td>\n",
       "      <td>1562.000000</td>\n",
       "      <td>4.000000</td>\n",
       "      <td>3.000000</td>\n",
       "      <td>1.000000</td>\n",
       "    </tr>\n",
       "    <tr>\n",
       "      <th>75%</th>\n",
       "      <td>79.000000</td>\n",
       "      <td>1793.000000</td>\n",
       "      <td>1784.000000</td>\n",
       "      <td>6.000000</td>\n",
       "      <td>122.000000</td>\n",
       "      <td>2.000000</td>\n",
       "    </tr>\n",
       "    <tr>\n",
       "      <th>max</th>\n",
       "      <td>349.000000</td>\n",
       "      <td>2700.000000</td>\n",
       "      <td>2723.000000</td>\n",
       "      <td>28.000000</td>\n",
       "      <td>1499.000000</td>\n",
       "      <td>2.000000</td>\n",
       "    </tr>\n",
       "  </tbody>\n",
       "</table>\n",
       "</div>"
      ],
      "text/plain": [
       "              turns  white_rating  black_rating   opening_ply  ratings_diff  \\\n",
       "count  20058.000000  20058.000000  20058.000000  20058.000000  20058.000000   \n",
       "mean      60.465999   1596.631868   1588.831987      4.816981      7.799880   \n",
       "std       33.570585    291.253376    291.036126      2.797152    249.036667   \n",
       "min        1.000000    784.000000    789.000000      1.000000  -1605.000000   \n",
       "25%       37.000000   1398.000000   1391.000000      3.000000   -108.000000   \n",
       "50%       55.000000   1567.000000   1562.000000      4.000000      3.000000   \n",
       "75%       79.000000   1793.000000   1784.000000      6.000000    122.000000   \n",
       "max      349.000000   2700.000000   2723.000000     28.000000   1499.000000   \n",
       "\n",
       "             winner  \n",
       "count  20058.000000  \n",
       "mean       1.406671  \n",
       "std        0.579682  \n",
       "min        0.000000  \n",
       "25%        1.000000  \n",
       "50%        1.000000  \n",
       "75%        2.000000  \n",
       "max        2.000000  "
      ]
     },
     "execution_count": 128,
     "metadata": {},
     "output_type": "execute_result"
    }
   ],
   "source": [
    "df3.describe()"
   ]
  },
  {
   "cell_type": "code",
   "execution_count": 130,
   "id": "e80c6a83",
   "metadata": {},
   "outputs": [],
   "source": [
    "df3_dummy = pd.get_dummies(df3)"
   ]
  },
  {
   "cell_type": "code",
   "execution_count": 131,
   "id": "c96e64eb",
   "metadata": {},
   "outputs": [
    {
     "data": {
      "text/html": [
       "<div>\n",
       "<style scoped>\n",
       "    .dataframe tbody tr th:only-of-type {\n",
       "        vertical-align: middle;\n",
       "    }\n",
       "\n",
       "    .dataframe tbody tr th {\n",
       "        vertical-align: top;\n",
       "    }\n",
       "\n",
       "    .dataframe thead th {\n",
       "        text-align: right;\n",
       "    }\n",
       "</style>\n",
       "<table border=\"1\" class=\"dataframe\">\n",
       "  <thead>\n",
       "    <tr style=\"text-align: right;\">\n",
       "      <th></th>\n",
       "      <th>rated</th>\n",
       "      <th>turns</th>\n",
       "      <th>white_rating</th>\n",
       "      <th>black_rating</th>\n",
       "      <th>opening_ply</th>\n",
       "      <th>ratings_diff</th>\n",
       "      <th>winner</th>\n",
       "      <th>victory_status_draw</th>\n",
       "      <th>victory_status_mate</th>\n",
       "      <th>victory_status_outoftime</th>\n",
       "      <th>...</th>\n",
       "      <th>opening_name_shrt_Trompowsky Attack</th>\n",
       "      <th>opening_name_shrt_Valencia Opening</th>\n",
       "      <th>opening_name_shrt_Van Geet Opening</th>\n",
       "      <th>opening_name_shrt_Van't Kruijs Opening</th>\n",
       "      <th>opening_name_shrt_Vienna Game</th>\n",
       "      <th>opening_name_shrt_Wade Defense</th>\n",
       "      <th>opening_name_shrt_Ware Defense</th>\n",
       "      <th>opening_name_shrt_Ware Opening</th>\n",
       "      <th>opening_name_shrt_Yusupov-Rubinstein System</th>\n",
       "      <th>opening_name_shrt_Zukertort Opening</th>\n",
       "    </tr>\n",
       "  </thead>\n",
       "  <tbody>\n",
       "    <tr>\n",
       "      <th>0</th>\n",
       "      <td>False</td>\n",
       "      <td>13</td>\n",
       "      <td>1500</td>\n",
       "      <td>1191</td>\n",
       "      <td>5</td>\n",
       "      <td>309</td>\n",
       "      <td>1</td>\n",
       "      <td>0</td>\n",
       "      <td>0</td>\n",
       "      <td>1</td>\n",
       "      <td>...</td>\n",
       "      <td>0</td>\n",
       "      <td>0</td>\n",
       "      <td>0</td>\n",
       "      <td>0</td>\n",
       "      <td>0</td>\n",
       "      <td>0</td>\n",
       "      <td>0</td>\n",
       "      <td>0</td>\n",
       "      <td>0</td>\n",
       "      <td>0</td>\n",
       "    </tr>\n",
       "    <tr>\n",
       "      <th>1</th>\n",
       "      <td>True</td>\n",
       "      <td>16</td>\n",
       "      <td>1322</td>\n",
       "      <td>1261</td>\n",
       "      <td>4</td>\n",
       "      <td>61</td>\n",
       "      <td>2</td>\n",
       "      <td>0</td>\n",
       "      <td>0</td>\n",
       "      <td>0</td>\n",
       "      <td>...</td>\n",
       "      <td>0</td>\n",
       "      <td>0</td>\n",
       "      <td>0</td>\n",
       "      <td>0</td>\n",
       "      <td>0</td>\n",
       "      <td>0</td>\n",
       "      <td>0</td>\n",
       "      <td>0</td>\n",
       "      <td>0</td>\n",
       "      <td>0</td>\n",
       "    </tr>\n",
       "    <tr>\n",
       "      <th>2</th>\n",
       "      <td>True</td>\n",
       "      <td>61</td>\n",
       "      <td>1496</td>\n",
       "      <td>1500</td>\n",
       "      <td>3</td>\n",
       "      <td>-4</td>\n",
       "      <td>1</td>\n",
       "      <td>0</td>\n",
       "      <td>1</td>\n",
       "      <td>0</td>\n",
       "      <td>...</td>\n",
       "      <td>0</td>\n",
       "      <td>0</td>\n",
       "      <td>0</td>\n",
       "      <td>0</td>\n",
       "      <td>0</td>\n",
       "      <td>0</td>\n",
       "      <td>0</td>\n",
       "      <td>0</td>\n",
       "      <td>0</td>\n",
       "      <td>0</td>\n",
       "    </tr>\n",
       "    <tr>\n",
       "      <th>3</th>\n",
       "      <td>True</td>\n",
       "      <td>61</td>\n",
       "      <td>1439</td>\n",
       "      <td>1454</td>\n",
       "      <td>3</td>\n",
       "      <td>-15</td>\n",
       "      <td>1</td>\n",
       "      <td>0</td>\n",
       "      <td>1</td>\n",
       "      <td>0</td>\n",
       "      <td>...</td>\n",
       "      <td>0</td>\n",
       "      <td>0</td>\n",
       "      <td>0</td>\n",
       "      <td>0</td>\n",
       "      <td>0</td>\n",
       "      <td>0</td>\n",
       "      <td>0</td>\n",
       "      <td>0</td>\n",
       "      <td>0</td>\n",
       "      <td>0</td>\n",
       "    </tr>\n",
       "    <tr>\n",
       "      <th>4</th>\n",
       "      <td>True</td>\n",
       "      <td>95</td>\n",
       "      <td>1523</td>\n",
       "      <td>1469</td>\n",
       "      <td>5</td>\n",
       "      <td>54</td>\n",
       "      <td>1</td>\n",
       "      <td>0</td>\n",
       "      <td>1</td>\n",
       "      <td>0</td>\n",
       "      <td>...</td>\n",
       "      <td>0</td>\n",
       "      <td>0</td>\n",
       "      <td>0</td>\n",
       "      <td>0</td>\n",
       "      <td>0</td>\n",
       "      <td>0</td>\n",
       "      <td>0</td>\n",
       "      <td>0</td>\n",
       "      <td>0</td>\n",
       "      <td>0</td>\n",
       "    </tr>\n",
       "  </tbody>\n",
       "</table>\n",
       "<p>5 rows × 154 columns</p>\n",
       "</div>"
      ],
      "text/plain": [
       "   rated  turns  white_rating  black_rating  opening_ply  ratings_diff  \\\n",
       "0  False     13          1500          1191            5           309   \n",
       "1   True     16          1322          1261            4            61   \n",
       "2   True     61          1496          1500            3            -4   \n",
       "3   True     61          1439          1454            3           -15   \n",
       "4   True     95          1523          1469            5            54   \n",
       "\n",
       "   winner  victory_status_draw  victory_status_mate  victory_status_outoftime  \\\n",
       "0       1                    0                    0                         1   \n",
       "1       2                    0                    0                         0   \n",
       "2       1                    0                    1                         0   \n",
       "3       1                    0                    1                         0   \n",
       "4       1                    0                    1                         0   \n",
       "\n",
       "   ...  opening_name_shrt_Trompowsky Attack  \\\n",
       "0  ...                                    0   \n",
       "1  ...                                    0   \n",
       "2  ...                                    0   \n",
       "3  ...                                    0   \n",
       "4  ...                                    0   \n",
       "\n",
       "   opening_name_shrt_Valencia Opening  opening_name_shrt_Van Geet Opening  \\\n",
       "0                                   0                                   0   \n",
       "1                                   0                                   0   \n",
       "2                                   0                                   0   \n",
       "3                                   0                                   0   \n",
       "4                                   0                                   0   \n",
       "\n",
       "   opening_name_shrt_Van't Kruijs Opening  opening_name_shrt_Vienna Game  \\\n",
       "0                                       0                              0   \n",
       "1                                       0                              0   \n",
       "2                                       0                              0   \n",
       "3                                       0                              0   \n",
       "4                                       0                              0   \n",
       "\n",
       "   opening_name_shrt_Wade Defense  opening_name_shrt_Ware Defense  \\\n",
       "0                               0                               0   \n",
       "1                               0                               0   \n",
       "2                               0                               0   \n",
       "3                               0                               0   \n",
       "4                               0                               0   \n",
       "\n",
       "   opening_name_shrt_Ware Opening  \\\n",
       "0                               0   \n",
       "1                               0   \n",
       "2                               0   \n",
       "3                               0   \n",
       "4                               0   \n",
       "\n",
       "   opening_name_shrt_Yusupov-Rubinstein System  \\\n",
       "0                                            0   \n",
       "1                                            0   \n",
       "2                                            0   \n",
       "3                                            0   \n",
       "4                                            0   \n",
       "\n",
       "   opening_name_shrt_Zukertort Opening  \n",
       "0                                    0  \n",
       "1                                    0  \n",
       "2                                    0  \n",
       "3                                    0  \n",
       "4                                    0  \n",
       "\n",
       "[5 rows x 154 columns]"
      ]
     },
     "execution_count": 131,
     "metadata": {},
     "output_type": "execute_result"
    }
   ],
   "source": [
    "df3_dummy.head()"
   ]
  },
  {
   "cell_type": "code",
   "execution_count": 158,
   "id": "0764996d",
   "metadata": {},
   "outputs": [],
   "source": [
    "# now we train a simple classification model . \n",
    "\n",
    "from sklearn.linear_model import LogisticRegression\n",
    "from sklearn.model_selection import train_test_split\n",
    "from sklearn.metrics import accuracy_score, classification_report"
   ]
  },
  {
   "cell_type": "code",
   "execution_count": 142,
   "id": "5c1a362b",
   "metadata": {},
   "outputs": [],
   "source": [
    "#let's first split the data  .\n",
    "X = df3_dummy.drop(columns=['winner'],axis=0)\n",
    "y = df3['winner']"
   ]
  },
  {
   "cell_type": "code",
   "execution_count": 143,
   "id": "7a41b0da",
   "metadata": {},
   "outputs": [
    {
     "data": {
      "text/plain": [
       "((20058, 153), (20058,))"
      ]
     },
     "execution_count": 143,
     "metadata": {},
     "output_type": "execute_result"
    }
   ],
   "source": [
    "X.shape,y.shape"
   ]
  },
  {
   "cell_type": "code",
   "execution_count": 144,
   "id": "51098ab8",
   "metadata": {},
   "outputs": [],
   "source": [
    "# split data into train and test"
   ]
  },
  {
   "cell_type": "code",
   "execution_count": 145,
   "id": "6d62fd18",
   "metadata": {},
   "outputs": [
    {
     "data": {
      "text/plain": [
       "((12034, 153), (8024, 153), (12034,), (8024,))"
      ]
     },
     "execution_count": 145,
     "metadata": {},
     "output_type": "execute_result"
    }
   ],
   "source": [
    "X_train, X_test, y_train, y_test = train_test_split(X,y, test_size=0.4, random_state=79)\n",
    "X_train.shape,X_test.shape,y_train.shape,y_test.shape"
   ]
  },
  {
   "cell_type": "code",
   "execution_count": 165,
   "id": "f2ee1e49",
   "metadata": {},
   "outputs": [],
   "source": [
    "lr_model = LogisticRegression(multi_class='multinomial',max_iter=2000).fit(X_train,y_train)"
   ]
  },
  {
   "cell_type": "code",
   "execution_count": 166,
   "id": "22c7d141",
   "metadata": {},
   "outputs": [],
   "source": [
    "# predict the model resutls\n",
    "y_pred = lr_model.predict(X_test)"
   ]
  },
  {
   "cell_type": "code",
   "execution_count": 167,
   "id": "4539cce3",
   "metadata": {},
   "outputs": [
    {
     "name": "stdout",
     "output_type": "stream",
     "text": [
      "0.6739780658025922\n"
     ]
    }
   ],
   "source": [
    "print(accuracy_score(y_test,y_pred))"
   ]
  },
  {
   "cell_type": "code",
   "execution_count": 168,
   "id": "1b0f8c31",
   "metadata": {},
   "outputs": [
    {
     "name": "stdout",
     "output_type": "stream",
     "text": [
      "              precision    recall  f1-score   support\n",
      "\n",
      "           0       0.99      0.96      0.98       398\n",
      "           1       0.66      0.71      0.69      4021\n",
      "           2       0.65      0.60      0.62      3605\n",
      "\n",
      "    accuracy                           0.67      8024\n",
      "   macro avg       0.77      0.76      0.76      8024\n",
      "weighted avg       0.67      0.67      0.67      8024\n",
      "\n"
     ]
    }
   ],
   "source": [
    "print(classification_report(y_test,y_pred))"
   ]
  },
  {
   "cell_type": "code",
   "execution_count": 169,
   "id": "8a57d216",
   "metadata": {},
   "outputs": [
    {
     "name": "stdout",
     "output_type": "stream",
     "text": [
      "0.8320203037921122\n"
     ]
    }
   ],
   "source": [
    "from sklearn import metrics\n",
    "\n",
    "y_pred_proba = lr_model.predict_proba(X_test)\n",
    "\n",
    "#calculate AUC of model\n",
    "auc = metrics.roc_auc_score(y_test, y_pred_proba,multi_class='ovr')\n",
    "\n",
    "#print AUC score\n",
    "print(auc)\n"
   ]
  },
  {
   "cell_type": "code",
   "execution_count": 172,
   "id": "f815af74",
   "metadata": {},
   "outputs": [
    {
     "data": {
      "image/png": "[encoded data removed]",
      "text/plain": [
       "<Figure size 432x288 with 1 Axes>"
      ]
     },
     "metadata": {
      "needs_background": "light"
     },
     "output_type": "display_data"
    }
   ],
   "source": [
    "# roc curve for classes\n",
    "fpr = {}\n",
    "tpr = {}\n",
    "thresh ={}\n",
    "\n",
    "n_class = 3\n",
    "\n",
    "for i in range(n_class):    \n",
    "    fpr[i], tpr[i], thresh[i] = metrics.roc_curve(y_test, y_pred_proba[:,i], pos_label=i)\n",
    "    \n",
    "# plotting    \n",
    "plt.plot(fpr[0], tpr[0], linestyle='--',color='orange', label='Class 0 vs Rest')\n",
    "plt.plot(fpr[1], tpr[1], linestyle='--',color='green', label='Class 1 vs Rest')\n",
    "plt.plot(fpr[2], tpr[2], linestyle='--',color='blue', label='Class 2 vs Rest')\n",
    "plt.title('Multiclass ROC curve')\n",
    "plt.xlabel('False Positive Rate')\n",
    "plt.ylabel('True Positive rate')\n",
    "plt.legend(loc='best')\n",
    "plt.savefig('Multiclass ROC',dpi=300);  "
   ]
  },
  {
   "cell_type": "code",
   "execution_count": null,
   "id": "b9d7bac0",
   "metadata": {},
   "outputs": [],
   "source": []
  }
 ],
 "metadata": {
  "kernelspec": {
   "display_name": "Python [conda env:metis] *",
   "language": "python",
   "name": "conda-env-metis-py"
  },
  "language_info": {
   "codemirror_mode": {
    "name": "ipython",
    "version": 3
   },
   "file_extension": ".py",
   "mimetype": "text/x-python",
   "name": "python",
   "nbconvert_exporter": "python",
   "pygments_lexer": "ipython3",
   "version": "3.9.7"
  }
 },
 "nbformat": 4,
 "nbformat_minor": 5
}
